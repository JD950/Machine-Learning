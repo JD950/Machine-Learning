{
  "nbformat": 4,
  "nbformat_minor": 0,
  "metadata": {
    "authors": [
      {
        "name": "jeffshep"
      }
    ],
    "microsoft": {
      "host": {
        "AzureML": {
          "notebookHasBeenCompleted": true
        }
      }
    },
    "network_required": false,
    "kernel_info": {
      "name": "python3-azureml"
    },
    "msauthor": "trbye",
    "language_info": {
      "name": "python",
      "version": "3.6.9",
      "mimetype": "text/x-python",
      "codemirror_mode": {
        "name": "ipython",
        "version": 3
      },
      "pygments_lexer": "ipython3",
      "nbconvert_exporter": "python",
      "file_extension": ".py"
    },
    "kernelspec": {
      "name": "python3-azureml",
      "language": "python",
      "display_name": "Python 3.6 - AzureML"
    },
    "categories": [
      "tutorials"
    ],
    "nteract": {
      "version": "nteract-front-end@1.0.0"
    },
    "colab": {
      "name": "regression-automated-ml.ipynb",
      "provenance": [],
      "include_colab_link": true
    }
  },
  "cells": [
    {
      "cell_type": "markdown",
      "metadata": {
        "id": "view-in-github",
        "colab_type": "text"
      },
      "source": [
        "<a href=\"https://colab.research.google.com/github/JD950/Python-Machine-Learning/blob/main/regression_automated_ml.ipynb\" target=\"_parent\"><img src=\"https://colab.research.google.com/assets/colab-badge.svg\" alt=\"Open In Colab\"/></a>"
      ]
    },
    {
      "cell_type": "markdown",
      "metadata": {
        "id": "JdbcsYW2N_It"
      },
      "source": [
        "Copyright (c) Microsoft Corporation. All rights reserved."
      ]
    },
    {
      "cell_type": "markdown",
      "metadata": {
        "id": "ihOXNUrGN_JH"
      },
      "source": [
        "![Impressions](https://PixelServer20190423114238.azurewebsites.net/api/impressions/NotebookVM/tutorials/regression-part2-automated-ml.png)"
      ]
    },
    {
      "cell_type": "markdown",
      "metadata": {
        "id": "kg7C3SY1N_JY"
      },
      "source": [
        "# Tutorial: Use automated machine learning to predict taxi fares"
      ]
    },
    {
      "cell_type": "markdown",
      "metadata": {
        "id": "QYZuhkAJN_JZ"
      },
      "source": [
        "In this tutorial, you use automated machine learning in Azure Machine Learning service to create a regression model to predict NYC taxi fare prices. This process accepts training data and configuration settings, and automatically iterates through combinations of different feature normalization/standardization methods, models, and hyperparameter settings to arrive at the best model.\n",
        "\n",
        "In this tutorial you learn the following tasks:\n",
        "\n",
        "* Download, transform, and clean data using Azure Open Datasets\n",
        "* Train an automated machine learning regression model\n",
        "* Calculate model accuracy\n",
        "\n",
        "If you donâ€™t have an Azure subscription, create a free account before you begin. Try the [free or paid version](https://aka.ms/AMLFree) of Azure Machine Learning service today."
      ]
    },
    {
      "cell_type": "markdown",
      "metadata": {
        "id": "XKBlQu1iN_Jw"
      },
      "source": [
        "## Prerequisites"
      ]
    },
    {
      "cell_type": "markdown",
      "metadata": {
        "id": "NxBqXtNSN_Jx"
      },
      "source": [
        "* Complete the [setup tutorial](https://docs.microsoft.com/azure/machine-learning/service/tutorial-1st-experiment-sdk-setup) if you don't already have an Azure Machine Learning service workspace or notebook virtual machine.\n",
        "* After you complete the setup tutorial, open the **tutorials/regression-automated-ml.ipynb** notebook using the same notebook server.\n",
        "\n",
        "This tutorial is also available on [GitHub](https://github.com/Azure/MachineLearningNotebooks/tree/master/tutorials) if you wish to run it in your own [local environment](https://github.com/Azure/MachineLearningNotebooks/blob/master/how-to-use-azureml/automated-machine-learning/README.md#setup-using-a-local-conda-environment)."
      ]
    },
    {
      "cell_type": "markdown",
      "metadata": {
        "id": "EaVnoa9zN_Jy"
      },
      "source": [
        "## Download and prepare data"
      ]
    },
    {
      "cell_type": "markdown",
      "metadata": {
        "id": "keuKFIU1N_J0"
      },
      "source": [
        "Import the necessary packages. The Open Datasets package contains a class representing each data source (`NycTlcGreen` for example) to easily filter date parameters before downloading."
      ]
    },
    {
      "cell_type": "code",
      "metadata": {
        "gather": {
          "logged": 1638286056944
        },
        "id": "BA7l3NcON_J1"
      },
      "source": [
        "import pandas as pd\n",
        "from azureml.core import Dataset\n",
        "from datetime import datetime\n",
        "from dateutil.relativedelta import relativedelta"
      ],
      "execution_count": null,
      "outputs": []
    },
    {
      "cell_type": "markdown",
      "metadata": {
        "id": "Ok5RVoAZN_J6"
      },
      "source": [
        "Begin by creating a dataframe to hold the taxi data. Then preview the data."
      ]
    },
    {
      "cell_type": "code",
      "metadata": {
        "gather": {
          "logged": 1638286082293
        },
        "id": "03FKInk6N_J6",
        "outputId": "0909ff1e-4b96-4c9e-c758-7f235d665fc6"
      },
      "source": [
        "green_taxi_dataset = Dataset.Tabular.from_parquet_files(path=\"https://automlsamplenotebookdata.blob.core.windows.net/automl-sample-notebook-data/green_taxi_data.parquet\")\n",
        "green_taxi_df = green_taxi_dataset.to_pandas_dataframe()\n",
        "green_taxi_df.head(10)"
      ],
      "execution_count": null,
      "outputs": [
        {
          "output_type": "execute_result",
          "execution_count": 2,
          "data": {
            "text/plain": "   vendorID         lpepPickupDatetime        lpepDropoffDatetime  \\\n0         2 1970-01-01 00:23:42.643089 1970-01-01 00:23:42.644509   \n1         1 1970-01-01 00:23:41.536899 1970-01-01 00:23:41.537716   \n2         2 1970-01-01 00:23:41.372320 1970-01-01 00:23:41.373175   \n3         2 1970-01-01 00:23:40.391366 1970-01-01 00:23:40.391772   \n4         1 1970-01-01 00:23:41.230257 1970-01-01 00:23:41.231610   \n5         2 1970-01-01 00:23:41.691041 1970-01-01 00:23:41.692340   \n6         2 1970-01-01 00:23:40.127061 1970-01-01 00:23:40.127416   \n7         2 1970-01-01 00:23:41.049681 1970-01-01 00:23:41.050492   \n8         1 1970-01-01 00:23:41.445266 1970-01-01 00:23:41.446359   \n9         2 1970-01-01 00:23:40.526093 1970-01-01 00:23:40.526663   \n\n   passengerCount  tripDistance puLocationId doLocationId  pickupLongitude  \\\n0               1          1.88         None         None       -73.996155   \n1               1          2.70         None         None       -73.978508   \n2               1          3.54         None         None       -73.957787   \n3               1          1.00         None         None       -73.919914   \n4               1          5.10         None         None       -73.943710   \n5               1          7.41         None         None       -73.940918   \n6               1          1.03         None         None       -73.985718   \n7               5          2.94         None         None       -73.939865   \n8               1          3.00         None         None       -73.957939   \n9               1          2.31         None         None       -73.943825   \n\n   pickupLatitude  dropoffLongitude  ...  fareAmount  extra mtaTax  \\\n0       40.690903        -73.964287  ...        15.0    1.0    0.5   \n1       40.687984        -73.955116  ...        11.5    0.5    0.5   \n2       40.721779        -73.963005  ...        13.5    0.5    0.5   \n3       40.826023        -73.904839  ...         6.5    0.0    0.5   \n4       40.825439        -73.982964  ...        18.5    0.0    0.5   \n5       40.839714        -73.994339  ...        24.0    0.0    0.5   \n6       40.685646        -73.996773  ...         6.5    0.0    0.5   \n7       40.789822        -73.952957  ...        12.5    0.0    0.5   \n8       40.721928        -73.926247  ...        14.0    0.5    0.5   \n9       40.810257        -73.943062  ...        10.0    0.0    0.5   \n\n   improvementSurcharge  tipAmount  tollsAmount  ehailFee totalAmount  \\\n0                   0.3       4.00          0.0      None       20.80   \n1                   0.3       2.55          0.0      None       15.35   \n2                   0.3       2.80          0.0      None       17.60   \n3                   0.3       0.00          0.0      None        7.30   \n4                   0.3       3.85          0.0      None       23.15   \n5                   0.3       4.80          0.0      None       29.60   \n6                   0.3       1.30          0.0      None        8.60   \n7                   0.3       0.00          0.0      None       13.30   \n8                   0.3       2.00          0.0      None       17.30   \n9                   0.3       2.00          0.0      None       12.80   \n\n   tripType          __index_level_0__  \n0       1.0 1970-01-01 00:23:42.643089  \n1       1.0 1970-01-01 00:23:41.536899  \n2       1.0 1970-01-01 00:23:41.372320  \n3       1.0 1970-01-01 00:23:40.391366  \n4       1.0 1970-01-01 00:23:41.230257  \n5       1.0 1970-01-01 00:23:41.691041  \n6       1.0 1970-01-01 00:23:40.127061  \n7       1.0 1970-01-01 00:23:41.049681  \n8       1.0 1970-01-01 00:23:41.445266  \n9       1.0 1970-01-01 00:23:40.526093  \n\n[10 rows x 24 columns]",
            "text/html": "<div>\n<style scoped>\n    .dataframe tbody tr th:only-of-type {\n        vertical-align: middle;\n    }\n\n    .dataframe tbody tr th {\n        vertical-align: top;\n    }\n\n    .dataframe thead th {\n        text-align: right;\n    }\n</style>\n<table border=\"1\" class=\"dataframe\">\n  <thead>\n    <tr style=\"text-align: right;\">\n      <th></th>\n      <th>vendorID</th>\n      <th>lpepPickupDatetime</th>\n      <th>lpepDropoffDatetime</th>\n      <th>passengerCount</th>\n      <th>tripDistance</th>\n      <th>puLocationId</th>\n      <th>doLocationId</th>\n      <th>pickupLongitude</th>\n      <th>pickupLatitude</th>\n      <th>dropoffLongitude</th>\n      <th>...</th>\n      <th>fareAmount</th>\n      <th>extra</th>\n      <th>mtaTax</th>\n      <th>improvementSurcharge</th>\n      <th>tipAmount</th>\n      <th>tollsAmount</th>\n      <th>ehailFee</th>\n      <th>totalAmount</th>\n      <th>tripType</th>\n      <th>__index_level_0__</th>\n    </tr>\n  </thead>\n  <tbody>\n    <tr>\n      <th>0</th>\n      <td>2</td>\n      <td>1970-01-01 00:23:42.643089</td>\n      <td>1970-01-01 00:23:42.644509</td>\n      <td>1</td>\n      <td>1.88</td>\n      <td>None</td>\n      <td>None</td>\n      <td>-73.996155</td>\n      <td>40.690903</td>\n      <td>-73.964287</td>\n      <td>...</td>\n      <td>15.0</td>\n      <td>1.0</td>\n      <td>0.5</td>\n      <td>0.3</td>\n      <td>4.00</td>\n      <td>0.0</td>\n      <td>None</td>\n      <td>20.80</td>\n      <td>1.0</td>\n      <td>1970-01-01 00:23:42.643089</td>\n    </tr>\n    <tr>\n      <th>1</th>\n      <td>1</td>\n      <td>1970-01-01 00:23:41.536899</td>\n      <td>1970-01-01 00:23:41.537716</td>\n      <td>1</td>\n      <td>2.70</td>\n      <td>None</td>\n      <td>None</td>\n      <td>-73.978508</td>\n      <td>40.687984</td>\n      <td>-73.955116</td>\n      <td>...</td>\n      <td>11.5</td>\n      <td>0.5</td>\n      <td>0.5</td>\n      <td>0.3</td>\n      <td>2.55</td>\n      <td>0.0</td>\n      <td>None</td>\n      <td>15.35</td>\n      <td>1.0</td>\n      <td>1970-01-01 00:23:41.536899</td>\n    </tr>\n    <tr>\n      <th>2</th>\n      <td>2</td>\n      <td>1970-01-01 00:23:41.372320</td>\n      <td>1970-01-01 00:23:41.373175</td>\n      <td>1</td>\n      <td>3.54</td>\n      <td>None</td>\n      <td>None</td>\n      <td>-73.957787</td>\n      <td>40.721779</td>\n      <td>-73.963005</td>\n      <td>...</td>\n      <td>13.5</td>\n      <td>0.5</td>\n      <td>0.5</td>\n      <td>0.3</td>\n      <td>2.80</td>\n      <td>0.0</td>\n      <td>None</td>\n      <td>17.60</td>\n      <td>1.0</td>\n      <td>1970-01-01 00:23:41.372320</td>\n    </tr>\n    <tr>\n      <th>3</th>\n      <td>2</td>\n      <td>1970-01-01 00:23:40.391366</td>\n      <td>1970-01-01 00:23:40.391772</td>\n      <td>1</td>\n      <td>1.00</td>\n      <td>None</td>\n      <td>None</td>\n      <td>-73.919914</td>\n      <td>40.826023</td>\n      <td>-73.904839</td>\n      <td>...</td>\n      <td>6.5</td>\n      <td>0.0</td>\n      <td>0.5</td>\n      <td>0.3</td>\n      <td>0.00</td>\n      <td>0.0</td>\n      <td>None</td>\n      <td>7.30</td>\n      <td>1.0</td>\n      <td>1970-01-01 00:23:40.391366</td>\n    </tr>\n    <tr>\n      <th>4</th>\n      <td>1</td>\n      <td>1970-01-01 00:23:41.230257</td>\n      <td>1970-01-01 00:23:41.231610</td>\n      <td>1</td>\n      <td>5.10</td>\n      <td>None</td>\n      <td>None</td>\n      <td>-73.943710</td>\n      <td>40.825439</td>\n      <td>-73.982964</td>\n      <td>...</td>\n      <td>18.5</td>\n      <td>0.0</td>\n      <td>0.5</td>\n      <td>0.3</td>\n      <td>3.85</td>\n      <td>0.0</td>\n      <td>None</td>\n      <td>23.15</td>\n      <td>1.0</td>\n      <td>1970-01-01 00:23:41.230257</td>\n    </tr>\n    <tr>\n      <th>5</th>\n      <td>2</td>\n      <td>1970-01-01 00:23:41.691041</td>\n      <td>1970-01-01 00:23:41.692340</td>\n      <td>1</td>\n      <td>7.41</td>\n      <td>None</td>\n      <td>None</td>\n      <td>-73.940918</td>\n      <td>40.839714</td>\n      <td>-73.994339</td>\n      <td>...</td>\n      <td>24.0</td>\n      <td>0.0</td>\n      <td>0.5</td>\n      <td>0.3</td>\n      <td>4.80</td>\n      <td>0.0</td>\n      <td>None</td>\n      <td>29.60</td>\n      <td>1.0</td>\n      <td>1970-01-01 00:23:41.691041</td>\n    </tr>\n    <tr>\n      <th>6</th>\n      <td>2</td>\n      <td>1970-01-01 00:23:40.127061</td>\n      <td>1970-01-01 00:23:40.127416</td>\n      <td>1</td>\n      <td>1.03</td>\n      <td>None</td>\n      <td>None</td>\n      <td>-73.985718</td>\n      <td>40.685646</td>\n      <td>-73.996773</td>\n      <td>...</td>\n      <td>6.5</td>\n      <td>0.0</td>\n      <td>0.5</td>\n      <td>0.3</td>\n      <td>1.30</td>\n      <td>0.0</td>\n      <td>None</td>\n      <td>8.60</td>\n      <td>1.0</td>\n      <td>1970-01-01 00:23:40.127061</td>\n    </tr>\n    <tr>\n      <th>7</th>\n      <td>2</td>\n      <td>1970-01-01 00:23:41.049681</td>\n      <td>1970-01-01 00:23:41.050492</td>\n      <td>5</td>\n      <td>2.94</td>\n      <td>None</td>\n      <td>None</td>\n      <td>-73.939865</td>\n      <td>40.789822</td>\n      <td>-73.952957</td>\n      <td>...</td>\n      <td>12.5</td>\n      <td>0.0</td>\n      <td>0.5</td>\n      <td>0.3</td>\n      <td>0.00</td>\n      <td>0.0</td>\n      <td>None</td>\n      <td>13.30</td>\n      <td>1.0</td>\n      <td>1970-01-01 00:23:41.049681</td>\n    </tr>\n    <tr>\n      <th>8</th>\n      <td>1</td>\n      <td>1970-01-01 00:23:41.445266</td>\n      <td>1970-01-01 00:23:41.446359</td>\n      <td>1</td>\n      <td>3.00</td>\n      <td>None</td>\n      <td>None</td>\n      <td>-73.957939</td>\n      <td>40.721928</td>\n      <td>-73.926247</td>\n      <td>...</td>\n      <td>14.0</td>\n      <td>0.5</td>\n      <td>0.5</td>\n      <td>0.3</td>\n      <td>2.00</td>\n      <td>0.0</td>\n      <td>None</td>\n      <td>17.30</td>\n      <td>1.0</td>\n      <td>1970-01-01 00:23:41.445266</td>\n    </tr>\n    <tr>\n      <th>9</th>\n      <td>2</td>\n      <td>1970-01-01 00:23:40.526093</td>\n      <td>1970-01-01 00:23:40.526663</td>\n      <td>1</td>\n      <td>2.31</td>\n      <td>None</td>\n      <td>None</td>\n      <td>-73.943825</td>\n      <td>40.810257</td>\n      <td>-73.943062</td>\n      <td>...</td>\n      <td>10.0</td>\n      <td>0.0</td>\n      <td>0.5</td>\n      <td>0.3</td>\n      <td>2.00</td>\n      <td>0.0</td>\n      <td>None</td>\n      <td>12.80</td>\n      <td>1.0</td>\n      <td>1970-01-01 00:23:40.526093</td>\n    </tr>\n  </tbody>\n</table>\n<p>10 rows × 24 columns</p>\n</div>"
          },
          "metadata": {}
        }
      ]
    },
    {
      "cell_type": "markdown",
      "metadata": {
        "id": "iTx7Pk78N_J8"
      },
      "source": [
        "Now that the initial data is loaded, define a function to create various time-based features from the pickup datetime field. This will create new fields for the month number, day of month, day of week, and hour of day, and will allow the model to factor in time-based seasonality. \n",
        "\n",
        "Use the `apply()` function on the dataframe to iteratively apply the `build_time_features()` function to each row in the taxi data."
      ]
    },
    {
      "cell_type": "code",
      "metadata": {
        "gather": {
          "logged": 1638286132305
        },
        "id": "dhY8ETDCN_J_",
        "outputId": "0c04cfff-a12a-4281-f8f9-c479cfc1656a"
      },
      "source": [
        "def build_time_features(vector):\n",
        "    pickup_datetime = vector[0]\n",
        "    month_num = pickup_datetime.month\n",
        "    day_of_month = pickup_datetime.day\n",
        "    day_of_week = pickup_datetime.weekday()\n",
        "    hour_of_day = pickup_datetime.hour\n",
        "    \n",
        "    return pd.Series((month_num, day_of_month, day_of_week, hour_of_day))\n",
        "\n",
        "green_taxi_df[[\"month_num\", \"day_of_month\",\"day_of_week\", \"hour_of_day\"]] = green_taxi_df[[\"lpepPickupDatetime\"]].apply(build_time_features, axis=1)\n",
        "green_taxi_df.head(10)"
      ],
      "execution_count": null,
      "outputs": [
        {
          "output_type": "execute_result",
          "execution_count": 3,
          "data": {
            "text/plain": "   vendorID         lpepPickupDatetime        lpepDropoffDatetime  \\\n0         2 1970-01-01 00:23:42.643089 1970-01-01 00:23:42.644509   \n1         1 1970-01-01 00:23:41.536899 1970-01-01 00:23:41.537716   \n2         2 1970-01-01 00:23:41.372320 1970-01-01 00:23:41.373175   \n3         2 1970-01-01 00:23:40.391366 1970-01-01 00:23:40.391772   \n4         1 1970-01-01 00:23:41.230257 1970-01-01 00:23:41.231610   \n5         2 1970-01-01 00:23:41.691041 1970-01-01 00:23:41.692340   \n6         2 1970-01-01 00:23:40.127061 1970-01-01 00:23:40.127416   \n7         2 1970-01-01 00:23:41.049681 1970-01-01 00:23:41.050492   \n8         1 1970-01-01 00:23:41.445266 1970-01-01 00:23:41.446359   \n9         2 1970-01-01 00:23:40.526093 1970-01-01 00:23:40.526663   \n\n   passengerCount  tripDistance puLocationId doLocationId  pickupLongitude  \\\n0               1          1.88         None         None       -73.996155   \n1               1          2.70         None         None       -73.978508   \n2               1          3.54         None         None       -73.957787   \n3               1          1.00         None         None       -73.919914   \n4               1          5.10         None         None       -73.943710   \n5               1          7.41         None         None       -73.940918   \n6               1          1.03         None         None       -73.985718   \n7               5          2.94         None         None       -73.939865   \n8               1          3.00         None         None       -73.957939   \n9               1          2.31         None         None       -73.943825   \n\n   pickupLatitude  dropoffLongitude  ...  tipAmount  tollsAmount ehailFee  \\\n0       40.690903        -73.964287  ...       4.00          0.0     None   \n1       40.687984        -73.955116  ...       2.55          0.0     None   \n2       40.721779        -73.963005  ...       2.80          0.0     None   \n3       40.826023        -73.904839  ...       0.00          0.0     None   \n4       40.825439        -73.982964  ...       3.85          0.0     None   \n5       40.839714        -73.994339  ...       4.80          0.0     None   \n6       40.685646        -73.996773  ...       1.30          0.0     None   \n7       40.789822        -73.952957  ...       0.00          0.0     None   \n8       40.721928        -73.926247  ...       2.00          0.0     None   \n9       40.810257        -73.943062  ...       2.00          0.0     None   \n\n   totalAmount  tripType          __index_level_0__  month_num day_of_month  \\\n0        20.80       1.0 1970-01-01 00:23:42.643089          1            1   \n1        15.35       1.0 1970-01-01 00:23:41.536899          1            1   \n2        17.60       1.0 1970-01-01 00:23:41.372320          1            1   \n3         7.30       1.0 1970-01-01 00:23:40.391366          1            1   \n4        23.15       1.0 1970-01-01 00:23:41.230257          1            1   \n5        29.60       1.0 1970-01-01 00:23:41.691041          1            1   \n6         8.60       1.0 1970-01-01 00:23:40.127061          1            1   \n7        13.30       1.0 1970-01-01 00:23:41.049681          1            1   \n8        17.30       1.0 1970-01-01 00:23:41.445266          1            1   \n9        12.80       1.0 1970-01-01 00:23:40.526093          1            1   \n\n   day_of_week  hour_of_day  \n0            3            0  \n1            3            0  \n2            3            0  \n3            3            0  \n4            3            0  \n5            3            0  \n6            3            0  \n7            3            0  \n8            3            0  \n9            3            0  \n\n[10 rows x 28 columns]",
            "text/html": "<div>\n<style scoped>\n    .dataframe tbody tr th:only-of-type {\n        vertical-align: middle;\n    }\n\n    .dataframe tbody tr th {\n        vertical-align: top;\n    }\n\n    .dataframe thead th {\n        text-align: right;\n    }\n</style>\n<table border=\"1\" class=\"dataframe\">\n  <thead>\n    <tr style=\"text-align: right;\">\n      <th></th>\n      <th>vendorID</th>\n      <th>lpepPickupDatetime</th>\n      <th>lpepDropoffDatetime</th>\n      <th>passengerCount</th>\n      <th>tripDistance</th>\n      <th>puLocationId</th>\n      <th>doLocationId</th>\n      <th>pickupLongitude</th>\n      <th>pickupLatitude</th>\n      <th>dropoffLongitude</th>\n      <th>...</th>\n      <th>tipAmount</th>\n      <th>tollsAmount</th>\n      <th>ehailFee</th>\n      <th>totalAmount</th>\n      <th>tripType</th>\n      <th>__index_level_0__</th>\n      <th>month_num</th>\n      <th>day_of_month</th>\n      <th>day_of_week</th>\n      <th>hour_of_day</th>\n    </tr>\n  </thead>\n  <tbody>\n    <tr>\n      <th>0</th>\n      <td>2</td>\n      <td>1970-01-01 00:23:42.643089</td>\n      <td>1970-01-01 00:23:42.644509</td>\n      <td>1</td>\n      <td>1.88</td>\n      <td>None</td>\n      <td>None</td>\n      <td>-73.996155</td>\n      <td>40.690903</td>\n      <td>-73.964287</td>\n      <td>...</td>\n      <td>4.00</td>\n      <td>0.0</td>\n      <td>None</td>\n      <td>20.80</td>\n      <td>1.0</td>\n      <td>1970-01-01 00:23:42.643089</td>\n      <td>1</td>\n      <td>1</td>\n      <td>3</td>\n      <td>0</td>\n    </tr>\n    <tr>\n      <th>1</th>\n      <td>1</td>\n      <td>1970-01-01 00:23:41.536899</td>\n      <td>1970-01-01 00:23:41.537716</td>\n      <td>1</td>\n      <td>2.70</td>\n      <td>None</td>\n      <td>None</td>\n      <td>-73.978508</td>\n      <td>40.687984</td>\n      <td>-73.955116</td>\n      <td>...</td>\n      <td>2.55</td>\n      <td>0.0</td>\n      <td>None</td>\n      <td>15.35</td>\n      <td>1.0</td>\n      <td>1970-01-01 00:23:41.536899</td>\n      <td>1</td>\n      <td>1</td>\n      <td>3</td>\n      <td>0</td>\n    </tr>\n    <tr>\n      <th>2</th>\n      <td>2</td>\n      <td>1970-01-01 00:23:41.372320</td>\n      <td>1970-01-01 00:23:41.373175</td>\n      <td>1</td>\n      <td>3.54</td>\n      <td>None</td>\n      <td>None</td>\n      <td>-73.957787</td>\n      <td>40.721779</td>\n      <td>-73.963005</td>\n      <td>...</td>\n      <td>2.80</td>\n      <td>0.0</td>\n      <td>None</td>\n      <td>17.60</td>\n      <td>1.0</td>\n      <td>1970-01-01 00:23:41.372320</td>\n      <td>1</td>\n      <td>1</td>\n      <td>3</td>\n      <td>0</td>\n    </tr>\n    <tr>\n      <th>3</th>\n      <td>2</td>\n      <td>1970-01-01 00:23:40.391366</td>\n      <td>1970-01-01 00:23:40.391772</td>\n      <td>1</td>\n      <td>1.00</td>\n      <td>None</td>\n      <td>None</td>\n      <td>-73.919914</td>\n      <td>40.826023</td>\n      <td>-73.904839</td>\n      <td>...</td>\n      <td>0.00</td>\n      <td>0.0</td>\n      <td>None</td>\n      <td>7.30</td>\n      <td>1.0</td>\n      <td>1970-01-01 00:23:40.391366</td>\n      <td>1</td>\n      <td>1</td>\n      <td>3</td>\n      <td>0</td>\n    </tr>\n    <tr>\n      <th>4</th>\n      <td>1</td>\n      <td>1970-01-01 00:23:41.230257</td>\n      <td>1970-01-01 00:23:41.231610</td>\n      <td>1</td>\n      <td>5.10</td>\n      <td>None</td>\n      <td>None</td>\n      <td>-73.943710</td>\n      <td>40.825439</td>\n      <td>-73.982964</td>\n      <td>...</td>\n      <td>3.85</td>\n      <td>0.0</td>\n      <td>None</td>\n      <td>23.15</td>\n      <td>1.0</td>\n      <td>1970-01-01 00:23:41.230257</td>\n      <td>1</td>\n      <td>1</td>\n      <td>3</td>\n      <td>0</td>\n    </tr>\n    <tr>\n      <th>5</th>\n      <td>2</td>\n      <td>1970-01-01 00:23:41.691041</td>\n      <td>1970-01-01 00:23:41.692340</td>\n      <td>1</td>\n      <td>7.41</td>\n      <td>None</td>\n      <td>None</td>\n      <td>-73.940918</td>\n      <td>40.839714</td>\n      <td>-73.994339</td>\n      <td>...</td>\n      <td>4.80</td>\n      <td>0.0</td>\n      <td>None</td>\n      <td>29.60</td>\n      <td>1.0</td>\n      <td>1970-01-01 00:23:41.691041</td>\n      <td>1</td>\n      <td>1</td>\n      <td>3</td>\n      <td>0</td>\n    </tr>\n    <tr>\n      <th>6</th>\n      <td>2</td>\n      <td>1970-01-01 00:23:40.127061</td>\n      <td>1970-01-01 00:23:40.127416</td>\n      <td>1</td>\n      <td>1.03</td>\n      <td>None</td>\n      <td>None</td>\n      <td>-73.985718</td>\n      <td>40.685646</td>\n      <td>-73.996773</td>\n      <td>...</td>\n      <td>1.30</td>\n      <td>0.0</td>\n      <td>None</td>\n      <td>8.60</td>\n      <td>1.0</td>\n      <td>1970-01-01 00:23:40.127061</td>\n      <td>1</td>\n      <td>1</td>\n      <td>3</td>\n      <td>0</td>\n    </tr>\n    <tr>\n      <th>7</th>\n      <td>2</td>\n      <td>1970-01-01 00:23:41.049681</td>\n      <td>1970-01-01 00:23:41.050492</td>\n      <td>5</td>\n      <td>2.94</td>\n      <td>None</td>\n      <td>None</td>\n      <td>-73.939865</td>\n      <td>40.789822</td>\n      <td>-73.952957</td>\n      <td>...</td>\n      <td>0.00</td>\n      <td>0.0</td>\n      <td>None</td>\n      <td>13.30</td>\n      <td>1.0</td>\n      <td>1970-01-01 00:23:41.049681</td>\n      <td>1</td>\n      <td>1</td>\n      <td>3</td>\n      <td>0</td>\n    </tr>\n    <tr>\n      <th>8</th>\n      <td>1</td>\n      <td>1970-01-01 00:23:41.445266</td>\n      <td>1970-01-01 00:23:41.446359</td>\n      <td>1</td>\n      <td>3.00</td>\n      <td>None</td>\n      <td>None</td>\n      <td>-73.957939</td>\n      <td>40.721928</td>\n      <td>-73.926247</td>\n      <td>...</td>\n      <td>2.00</td>\n      <td>0.0</td>\n      <td>None</td>\n      <td>17.30</td>\n      <td>1.0</td>\n      <td>1970-01-01 00:23:41.445266</td>\n      <td>1</td>\n      <td>1</td>\n      <td>3</td>\n      <td>0</td>\n    </tr>\n    <tr>\n      <th>9</th>\n      <td>2</td>\n      <td>1970-01-01 00:23:40.526093</td>\n      <td>1970-01-01 00:23:40.526663</td>\n      <td>1</td>\n      <td>2.31</td>\n      <td>None</td>\n      <td>None</td>\n      <td>-73.943825</td>\n      <td>40.810257</td>\n      <td>-73.943062</td>\n      <td>...</td>\n      <td>2.00</td>\n      <td>0.0</td>\n      <td>None</td>\n      <td>12.80</td>\n      <td>1.0</td>\n      <td>1970-01-01 00:23:40.526093</td>\n      <td>1</td>\n      <td>1</td>\n      <td>3</td>\n      <td>0</td>\n    </tr>\n  </tbody>\n</table>\n<p>10 rows × 28 columns</p>\n</div>"
          },
          "metadata": {}
        }
      ]
    },
    {
      "cell_type": "markdown",
      "metadata": {
        "id": "PcPzuQSYN_KC"
      },
      "source": [
        "Remove some of the columns that you won't need for training or additional feature building."
      ]
    },
    {
      "cell_type": "code",
      "metadata": {
        "gather": {
          "logged": 1638286190244
        },
        "id": "DdvPMnGTN_KD",
        "outputId": "4d97bf04-b8e7-4d27-fd39-bc2e4db5d7e0"
      },
      "source": [
        "columns_to_remove = [\"lpepPickupDatetime\", \"lpepDropoffDatetime\", \"puLocationId\", \"doLocationId\", \"extra\", \"mtaTax\",\n",
        "                     \"improvementSurcharge\", \"tollsAmount\", \"ehailFee\", \"tripType\", \"rateCodeID\", \n",
        "                     \"storeAndFwdFlag\", \"paymentType\", \"fareAmount\", \"tipAmount\"\n",
        "                    ]\n",
        "for col in columns_to_remove:\n",
        "    green_taxi_df.pop(col)\n",
        "    \n",
        "green_taxi_df.head(5)"
      ],
      "execution_count": null,
      "outputs": [
        {
          "output_type": "execute_result",
          "execution_count": 4,
          "data": {
            "text/plain": "   vendorID  passengerCount  tripDistance  pickupLongitude  pickupLatitude  \\\n0         2               1          1.88       -73.996155       40.690903   \n1         1               1          2.70       -73.978508       40.687984   \n2         2               1          3.54       -73.957787       40.721779   \n3         2               1          1.00       -73.919914       40.826023   \n4         1               1          5.10       -73.943710       40.825439   \n\n   dropoffLongitude  dropoffLatitude  totalAmount          __index_level_0__  \\\n0        -73.964287        40.679707        20.80 1970-01-01 00:23:42.643089   \n1        -73.955116        40.708138        15.35 1970-01-01 00:23:41.536899   \n2        -73.963005        40.682774        17.60 1970-01-01 00:23:41.372320   \n3        -73.904839        40.821404         7.30 1970-01-01 00:23:40.391366   \n4        -73.982964        40.767857        23.15 1970-01-01 00:23:41.230257   \n\n   month_num  day_of_month  day_of_week  hour_of_day  \n0          1             1            3            0  \n1          1             1            3            0  \n2          1             1            3            0  \n3          1             1            3            0  \n4          1             1            3            0  ",
            "text/html": "<div>\n<style scoped>\n    .dataframe tbody tr th:only-of-type {\n        vertical-align: middle;\n    }\n\n    .dataframe tbody tr th {\n        vertical-align: top;\n    }\n\n    .dataframe thead th {\n        text-align: right;\n    }\n</style>\n<table border=\"1\" class=\"dataframe\">\n  <thead>\n    <tr style=\"text-align: right;\">\n      <th></th>\n      <th>vendorID</th>\n      <th>passengerCount</th>\n      <th>tripDistance</th>\n      <th>pickupLongitude</th>\n      <th>pickupLatitude</th>\n      <th>dropoffLongitude</th>\n      <th>dropoffLatitude</th>\n      <th>totalAmount</th>\n      <th>__index_level_0__</th>\n      <th>month_num</th>\n      <th>day_of_month</th>\n      <th>day_of_week</th>\n      <th>hour_of_day</th>\n    </tr>\n  </thead>\n  <tbody>\n    <tr>\n      <th>0</th>\n      <td>2</td>\n      <td>1</td>\n      <td>1.88</td>\n      <td>-73.996155</td>\n      <td>40.690903</td>\n      <td>-73.964287</td>\n      <td>40.679707</td>\n      <td>20.80</td>\n      <td>1970-01-01 00:23:42.643089</td>\n      <td>1</td>\n      <td>1</td>\n      <td>3</td>\n      <td>0</td>\n    </tr>\n    <tr>\n      <th>1</th>\n      <td>1</td>\n      <td>1</td>\n      <td>2.70</td>\n      <td>-73.978508</td>\n      <td>40.687984</td>\n      <td>-73.955116</td>\n      <td>40.708138</td>\n      <td>15.35</td>\n      <td>1970-01-01 00:23:41.536899</td>\n      <td>1</td>\n      <td>1</td>\n      <td>3</td>\n      <td>0</td>\n    </tr>\n    <tr>\n      <th>2</th>\n      <td>2</td>\n      <td>1</td>\n      <td>3.54</td>\n      <td>-73.957787</td>\n      <td>40.721779</td>\n      <td>-73.963005</td>\n      <td>40.682774</td>\n      <td>17.60</td>\n      <td>1970-01-01 00:23:41.372320</td>\n      <td>1</td>\n      <td>1</td>\n      <td>3</td>\n      <td>0</td>\n    </tr>\n    <tr>\n      <th>3</th>\n      <td>2</td>\n      <td>1</td>\n      <td>1.00</td>\n      <td>-73.919914</td>\n      <td>40.826023</td>\n      <td>-73.904839</td>\n      <td>40.821404</td>\n      <td>7.30</td>\n      <td>1970-01-01 00:23:40.391366</td>\n      <td>1</td>\n      <td>1</td>\n      <td>3</td>\n      <td>0</td>\n    </tr>\n    <tr>\n      <th>4</th>\n      <td>1</td>\n      <td>1</td>\n      <td>5.10</td>\n      <td>-73.943710</td>\n      <td>40.825439</td>\n      <td>-73.982964</td>\n      <td>40.767857</td>\n      <td>23.15</td>\n      <td>1970-01-01 00:23:41.230257</td>\n      <td>1</td>\n      <td>1</td>\n      <td>3</td>\n      <td>0</td>\n    </tr>\n  </tbody>\n</table>\n</div>"
          },
          "metadata": {}
        }
      ]
    },
    {
      "cell_type": "markdown",
      "metadata": {
        "id": "TVwrLmAyN_KH"
      },
      "source": [
        "### Cleanse data "
      ]
    },
    {
      "cell_type": "markdown",
      "metadata": {
        "id": "PlZqzfy2N_KI"
      },
      "source": [
        "Run the `describe()` function on the new dataframe to see summary statistics for each field."
      ]
    },
    {
      "cell_type": "code",
      "metadata": {
        "gather": {
          "logged": 1638286198720
        },
        "id": "1l5JcLSuN_KI",
        "outputId": "fb6981cf-56a0-43c5-8cd9-77db1186c2b1"
      },
      "source": [
        "green_taxi_df.describe()"
      ],
      "execution_count": null,
      "outputs": [
        {
          "output_type": "execute_result",
          "execution_count": 5,
          "data": {
            "text/plain": "           vendorID  passengerCount  tripDistance  pickupLongitude  \\\ncount  24000.000000    24000.000000  24000.000000     24000.000000   \nmean       1.777625        1.373625      2.893981       -73.827403   \nstd        0.415850        1.046180      3.072343         2.821767   \nmin        1.000000        0.000000      0.000000       -74.357101   \n25%        2.000000        1.000000      1.050000       -73.959175   \n50%        2.000000        1.000000      1.930000       -73.945049   \n75%        2.000000        1.000000      3.700000       -73.917089   \nmax        2.000000        8.000000    154.280000         0.000000   \n\n       pickupLatitude  dropoffLongitude  dropoffLatitude   totalAmount  \\\ncount    24000.000000      24000.000000     24000.000000  24000.000000   \nmean        40.689730        -73.819670        40.684436     14.892744   \nstd          1.556082          2.901199         1.599776     12.339749   \nmin          0.000000        -74.342766         0.000000   -120.800000   \n25%         40.699127        -73.966476        40.699459      8.000000   \n50%         40.746754        -73.944221        40.747536     11.300000   \n75%         40.803060        -73.909061        40.791526     17.800000   \nmax         41.109089          0.000000        40.982826    425.000000   \n\n       month_num  day_of_month  day_of_week  hour_of_day  \ncount    24000.0       24000.0      24000.0      24000.0  \nmean         1.0           1.0          3.0          0.0  \nstd          0.0           0.0          0.0          0.0  \nmin          1.0           1.0          3.0          0.0  \n25%          1.0           1.0          3.0          0.0  \n50%          1.0           1.0          3.0          0.0  \n75%          1.0           1.0          3.0          0.0  \nmax          1.0           1.0          3.0          0.0  ",
            "text/html": "<div>\n<style scoped>\n    .dataframe tbody tr th:only-of-type {\n        vertical-align: middle;\n    }\n\n    .dataframe tbody tr th {\n        vertical-align: top;\n    }\n\n    .dataframe thead th {\n        text-align: right;\n    }\n</style>\n<table border=\"1\" class=\"dataframe\">\n  <thead>\n    <tr style=\"text-align: right;\">\n      <th></th>\n      <th>vendorID</th>\n      <th>passengerCount</th>\n      <th>tripDistance</th>\n      <th>pickupLongitude</th>\n      <th>pickupLatitude</th>\n      <th>dropoffLongitude</th>\n      <th>dropoffLatitude</th>\n      <th>totalAmount</th>\n      <th>month_num</th>\n      <th>day_of_month</th>\n      <th>day_of_week</th>\n      <th>hour_of_day</th>\n    </tr>\n  </thead>\n  <tbody>\n    <tr>\n      <th>count</th>\n      <td>24000.000000</td>\n      <td>24000.000000</td>\n      <td>24000.000000</td>\n      <td>24000.000000</td>\n      <td>24000.000000</td>\n      <td>24000.000000</td>\n      <td>24000.000000</td>\n      <td>24000.000000</td>\n      <td>24000.0</td>\n      <td>24000.0</td>\n      <td>24000.0</td>\n      <td>24000.0</td>\n    </tr>\n    <tr>\n      <th>mean</th>\n      <td>1.777625</td>\n      <td>1.373625</td>\n      <td>2.893981</td>\n      <td>-73.827403</td>\n      <td>40.689730</td>\n      <td>-73.819670</td>\n      <td>40.684436</td>\n      <td>14.892744</td>\n      <td>1.0</td>\n      <td>1.0</td>\n      <td>3.0</td>\n      <td>0.0</td>\n    </tr>\n    <tr>\n      <th>std</th>\n      <td>0.415850</td>\n      <td>1.046180</td>\n      <td>3.072343</td>\n      <td>2.821767</td>\n      <td>1.556082</td>\n      <td>2.901199</td>\n      <td>1.599776</td>\n      <td>12.339749</td>\n      <td>0.0</td>\n      <td>0.0</td>\n      <td>0.0</td>\n      <td>0.0</td>\n    </tr>\n    <tr>\n      <th>min</th>\n      <td>1.000000</td>\n      <td>0.000000</td>\n      <td>0.000000</td>\n      <td>-74.357101</td>\n      <td>0.000000</td>\n      <td>-74.342766</td>\n      <td>0.000000</td>\n      <td>-120.800000</td>\n      <td>1.0</td>\n      <td>1.0</td>\n      <td>3.0</td>\n      <td>0.0</td>\n    </tr>\n    <tr>\n      <th>25%</th>\n      <td>2.000000</td>\n      <td>1.000000</td>\n      <td>1.050000</td>\n      <td>-73.959175</td>\n      <td>40.699127</td>\n      <td>-73.966476</td>\n      <td>40.699459</td>\n      <td>8.000000</td>\n      <td>1.0</td>\n      <td>1.0</td>\n      <td>3.0</td>\n      <td>0.0</td>\n    </tr>\n    <tr>\n      <th>50%</th>\n      <td>2.000000</td>\n      <td>1.000000</td>\n      <td>1.930000</td>\n      <td>-73.945049</td>\n      <td>40.746754</td>\n      <td>-73.944221</td>\n      <td>40.747536</td>\n      <td>11.300000</td>\n      <td>1.0</td>\n      <td>1.0</td>\n      <td>3.0</td>\n      <td>0.0</td>\n    </tr>\n    <tr>\n      <th>75%</th>\n      <td>2.000000</td>\n      <td>1.000000</td>\n      <td>3.700000</td>\n      <td>-73.917089</td>\n      <td>40.803060</td>\n      <td>-73.909061</td>\n      <td>40.791526</td>\n      <td>17.800000</td>\n      <td>1.0</td>\n      <td>1.0</td>\n      <td>3.0</td>\n      <td>0.0</td>\n    </tr>\n    <tr>\n      <th>max</th>\n      <td>2.000000</td>\n      <td>8.000000</td>\n      <td>154.280000</td>\n      <td>0.000000</td>\n      <td>41.109089</td>\n      <td>0.000000</td>\n      <td>40.982826</td>\n      <td>425.000000</td>\n      <td>1.0</td>\n      <td>1.0</td>\n      <td>3.0</td>\n      <td>0.0</td>\n    </tr>\n  </tbody>\n</table>\n</div>"
          },
          "metadata": {}
        }
      ]
    },
    {
      "cell_type": "markdown",
      "metadata": {
        "id": "vyNf0qAhN_KJ"
      },
      "source": [
        "From the summary statistics, you see that there are several fields that have outliers or values that will reduce model accuracy. First filter the lat/long fields to be within the bounds of the Manhattan area. This will filter out longer taxi trips or trips that are outliers in respect to their relationship with other features. \n",
        "\n",
        "Additionally filter the `tripDistance` field to be greater than zero but less than 31 miles (the haversine distance between the two lat/long pairs). This eliminates long outlier trips that have inconsistent trip cost.\n",
        "\n",
        "Lastly, the `totalAmount` field has negative values for the taxi fares, which don't make sense in the context of our model, and the `passengerCount` field has bad data with the minimum values being zero.\n",
        "\n",
        "Filter out these anomalies using query functions, and then remove the last few columns unnecessary for training."
      ]
    },
    {
      "cell_type": "code",
      "metadata": {
        "gather": {
          "logged": 1638286228128
        },
        "id": "p_by0RIHN_KJ"
      },
      "source": [
        "final_df = green_taxi_df.query(\"pickupLatitude>=40.53 and pickupLatitude<=40.88\")\n",
        "final_df = final_df.query(\"pickupLongitude>=-74.09 and pickupLongitude<=-73.72\")\n",
        "final_df = final_df.query(\"tripDistance>=0.25 and tripDistance<31\")\n",
        "final_df = final_df.query(\"passengerCount>0 and totalAmount>0\")\n",
        "\n",
        "columns_to_remove_for_training = [\"pickupLongitude\", \"pickupLatitude\", \"dropoffLongitude\", \"dropoffLatitude\"]\n",
        "for col in columns_to_remove_for_training:\n",
        "    final_df.pop(col)"
      ],
      "execution_count": null,
      "outputs": []
    },
    {
      "cell_type": "markdown",
      "metadata": {
        "id": "Ddu4szNAN_KL"
      },
      "source": [
        "Call `describe()` again on the data to ensure cleansing worked as expected. You now have a prepared and cleansed set of taxi, holiday, and weather data to use for machine learning model training."
      ]
    },
    {
      "cell_type": "code",
      "metadata": {
        "gather": {
          "logged": 1638286235076
        },
        "id": "ARxCxtCON_KL",
        "outputId": "e025502c-dfbe-4f74-fd91-f13a5dbea8cf"
      },
      "source": [
        "final_df.describe()"
      ],
      "execution_count": null,
      "outputs": [
        {
          "output_type": "execute_result",
          "execution_count": 7,
          "data": {
            "text/plain": "           vendorID  passengerCount  tripDistance   totalAmount  month_num  \\\ncount  23222.000000    23222.000000  23222.000000  23222.000000    23222.0   \nmean       1.778572        1.374688      2.956753     14.838994        1.0   \nstd        0.415217        1.046995      2.862415     10.363600        0.0   \nmin        1.000000        1.000000      0.250000      0.010000        1.0   \n25%        2.000000        1.000000      1.100000      8.190000        1.0   \n50%        2.000000        1.000000      2.000000     11.750000        1.0   \n75%        2.000000        1.000000      3.760000     17.880000        1.0   \nmax        2.000000        8.000000     30.840000    191.700000        1.0   \n\n       day_of_month  day_of_week  hour_of_day  \ncount       23222.0      23222.0      23222.0  \nmean            1.0          3.0          0.0  \nstd             0.0          0.0          0.0  \nmin             1.0          3.0          0.0  \n25%             1.0          3.0          0.0  \n50%             1.0          3.0          0.0  \n75%             1.0          3.0          0.0  \nmax             1.0          3.0          0.0  ",
            "text/html": "<div>\n<style scoped>\n    .dataframe tbody tr th:only-of-type {\n        vertical-align: middle;\n    }\n\n    .dataframe tbody tr th {\n        vertical-align: top;\n    }\n\n    .dataframe thead th {\n        text-align: right;\n    }\n</style>\n<table border=\"1\" class=\"dataframe\">\n  <thead>\n    <tr style=\"text-align: right;\">\n      <th></th>\n      <th>vendorID</th>\n      <th>passengerCount</th>\n      <th>tripDistance</th>\n      <th>totalAmount</th>\n      <th>month_num</th>\n      <th>day_of_month</th>\n      <th>day_of_week</th>\n      <th>hour_of_day</th>\n    </tr>\n  </thead>\n  <tbody>\n    <tr>\n      <th>count</th>\n      <td>23222.000000</td>\n      <td>23222.000000</td>\n      <td>23222.000000</td>\n      <td>23222.000000</td>\n      <td>23222.0</td>\n      <td>23222.0</td>\n      <td>23222.0</td>\n      <td>23222.0</td>\n    </tr>\n    <tr>\n      <th>mean</th>\n      <td>1.778572</td>\n      <td>1.374688</td>\n      <td>2.956753</td>\n      <td>14.838994</td>\n      <td>1.0</td>\n      <td>1.0</td>\n      <td>3.0</td>\n      <td>0.0</td>\n    </tr>\n    <tr>\n      <th>std</th>\n      <td>0.415217</td>\n      <td>1.046995</td>\n      <td>2.862415</td>\n      <td>10.363600</td>\n      <td>0.0</td>\n      <td>0.0</td>\n      <td>0.0</td>\n      <td>0.0</td>\n    </tr>\n    <tr>\n      <th>min</th>\n      <td>1.000000</td>\n      <td>1.000000</td>\n      <td>0.250000</td>\n      <td>0.010000</td>\n      <td>1.0</td>\n      <td>1.0</td>\n      <td>3.0</td>\n      <td>0.0</td>\n    </tr>\n    <tr>\n      <th>25%</th>\n      <td>2.000000</td>\n      <td>1.000000</td>\n      <td>1.100000</td>\n      <td>8.190000</td>\n      <td>1.0</td>\n      <td>1.0</td>\n      <td>3.0</td>\n      <td>0.0</td>\n    </tr>\n    <tr>\n      <th>50%</th>\n      <td>2.000000</td>\n      <td>1.000000</td>\n      <td>2.000000</td>\n      <td>11.750000</td>\n      <td>1.0</td>\n      <td>1.0</td>\n      <td>3.0</td>\n      <td>0.0</td>\n    </tr>\n    <tr>\n      <th>75%</th>\n      <td>2.000000</td>\n      <td>1.000000</td>\n      <td>3.760000</td>\n      <td>17.880000</td>\n      <td>1.0</td>\n      <td>1.0</td>\n      <td>3.0</td>\n      <td>0.0</td>\n    </tr>\n    <tr>\n      <th>max</th>\n      <td>2.000000</td>\n      <td>8.000000</td>\n      <td>30.840000</td>\n      <td>191.700000</td>\n      <td>1.0</td>\n      <td>1.0</td>\n      <td>3.0</td>\n      <td>0.0</td>\n    </tr>\n  </tbody>\n</table>\n</div>"
          },
          "metadata": {}
        }
      ]
    },
    {
      "cell_type": "markdown",
      "metadata": {
        "id": "SiqAENc3N_KN"
      },
      "source": [
        "## Configure workspace\n"
      ]
    },
    {
      "cell_type": "markdown",
      "metadata": {
        "id": "JrxXzivpN_KO"
      },
      "source": [
        "Create a workspace object from the existing workspace. A [Workspace](https://docs.microsoft.com/python/api/azureml-core/azureml.core.workspace.workspace?view=azure-ml-py) is a class that accepts your Azure subscription and resource information. It also creates a cloud resource to monitor and track your model runs. `Workspace.from_config()` reads the file **config.json** and loads the authentication details into an object named `ws`. `ws` is used throughout the rest of the code in this tutorial."
      ]
    },
    {
      "cell_type": "code",
      "metadata": {
        "gather": {
          "logged": 1638286254784
        },
        "id": "qDDc3TKQN_KP"
      },
      "source": [
        "from azureml.core.workspace import Workspace\n",
        "ws = Workspace.from_config()"
      ],
      "execution_count": null,
      "outputs": []
    },
    {
      "cell_type": "markdown",
      "metadata": {
        "id": "bos6lIiTN_KQ"
      },
      "source": [
        "## Split the data into train and test sets"
      ]
    },
    {
      "cell_type": "markdown",
      "metadata": {
        "id": "KoCk46VUN_KQ"
      },
      "source": [
        "Split the data into training and test sets by using the `train_test_split` function in the `scikit-learn` library. This function segregates the data into the x (**features**) data set for model training and the y (**values to predict**) data set for testing. The `test_size` parameter determines the percentage of data to allocate to testing. The `random_state` parameter sets a seed to the random generator, so that your train-test splits are deterministic."
      ]
    },
    {
      "cell_type": "code",
      "metadata": {
        "gather": {
          "logged": 1638286275132
        },
        "id": "rmgtSqvmN_KS"
      },
      "source": [
        "from sklearn.model_selection import train_test_split\n",
        "\n",
        "x_train, x_test = train_test_split(final_df, test_size=0.2, random_state=223)"
      ],
      "execution_count": null,
      "outputs": []
    },
    {
      "cell_type": "markdown",
      "metadata": {
        "id": "tvyHIPPzN_KT"
      },
      "source": [
        "The purpose of this step is to have data points to test the finished model that haven't been used to train the model, in order to measure true accuracy. \n",
        "\n",
        "In other words, a well-trained model should be able to accurately make predictions from data it hasn't already seen. You now have data prepared for auto-training a machine learning model."
      ]
    },
    {
      "cell_type": "markdown",
      "metadata": {
        "id": "sI5l5QKKN_KT"
      },
      "source": [
        "## Automatically train a model"
      ]
    },
    {
      "cell_type": "markdown",
      "metadata": {
        "id": "Mp5W7_vdN_KU"
      },
      "source": [
        "To automatically train a model, take the following steps:\n",
        "1. Define settings for the experiment run. Attach your training data to the configuration, and modify settings that control the training process.\n",
        "1. Submit the experiment for model tuning. After submitting the experiment, the process iterates through different machine learning algorithms and hyperparameter settings, adhering to your defined constraints. It chooses the best-fit model by optimizing an accuracy metric."
      ]
    },
    {
      "cell_type": "markdown",
      "metadata": {
        "id": "TCAUjrg_N_KU"
      },
      "source": [
        "### Define training settings"
      ]
    },
    {
      "cell_type": "markdown",
      "metadata": {
        "id": "csjd5_RNN_KU"
      },
      "source": [
        "Define the experiment parameter and model settings for training. View the full list of [settings](https://docs.microsoft.com/azure/machine-learning/service/how-to-configure-auto-train). Submitting the experiment with these default settings will take approximately 20 minutes, but if you want a shorter run time, reduce the `experiment_timeout_hours` parameter.\n",
        "\n",
        "\n",
        "|Property| Value in this tutorial |Description|\n",
        "|----|----|---|\n",
        "|**iteration_timeout_minutes**|10|Time limit in minutes for each iteration. Increase this value for larger datasets that need more time for each iteration.|\n",
        "|**experiment_timeout_hours**|0.3|Maximum amount of time in hours that all iterations combined can take before the experiment terminates.|\n",
        "|**enable_early_stopping**|True|Flag to enable early termination if the score is not improving in the short term.|\n",
        "|**primary_metric**| spearman_correlation | Metric that you want to optimize. The best-fit model will be chosen based on this metric.|\n",
        "|**featurization**| auto | By using auto, the experiment can preprocess the input data (handling missing data, converting text to numeric, etc.)|\n",
        "|**verbosity**| logging.INFO | Controls the level of logging.|\n",
        "|**n_cross_validations**|5|Number of cross-validation splits to perform when validation data is not specified.|"
      ]
    },
    {
      "cell_type": "code",
      "metadata": {
        "gather": {
          "logged": 1638288007794
        },
        "id": "eRyMT5ISN_KU"
      },
      "source": [
        "import logging\n",
        "\n",
        "automl_settings = {\n",
        "    \"iteration_timeout_minutes\": 10,\n",
        "    \"experiment_timeout_hours\": 1.0,\n",
        "    \"enable_early_stopping\": True,\n",
        "    \"primary_metric\": 'spearman_correlation',\n",
        "    \"featurization\": 'auto',\n",
        "    \"verbosity\": logging.INFO,\n",
        "    \"n_cross_validations\": 5\n",
        "}"
      ],
      "execution_count": null,
      "outputs": []
    },
    {
      "cell_type": "markdown",
      "metadata": {
        "id": "xi87-O5VN_KV"
      },
      "source": [
        "Use your defined training settings as a `**kwargs` parameter to an `AutoMLConfig` object. Additionally, specify your training data and the type of model, which is `regression` in this case."
      ]
    },
    {
      "cell_type": "code",
      "metadata": {
        "gather": {
          "logged": 1638288045199
        },
        "id": "8CGpHGyAN_KV"
      },
      "source": [
        "from azureml.train.automl import AutoMLConfig\n",
        "\n",
        "automl_config = AutoMLConfig(task='regression',\n",
        "                             debug_log='automated_ml_errors.log',\n",
        "                             training_data=x_train,\n",
        "                             label_column_name=\"totalAmount\",\n",
        "                             **automl_settings)"
      ],
      "execution_count": null,
      "outputs": []
    },
    {
      "cell_type": "markdown",
      "metadata": {
        "id": "QZ0FNtj7N_KW"
      },
      "source": [
        "Automated machine learning pre-processing steps (feature normalization, handling missing data, converting text to numeric, etc.) become part of the underlying model. When using the model for predictions, the same pre-processing steps applied during training are applied to your input data automatically."
      ]
    },
    {
      "cell_type": "markdown",
      "metadata": {
        "id": "_HTk2msUN_KX"
      },
      "source": [
        "### Train the automatic regression model"
      ]
    },
    {
      "cell_type": "markdown",
      "metadata": {
        "id": "H1mfemz0N_KX"
      },
      "source": [
        "Create an experiment object in your workspace. An experiment acts as a container for your individual runs. Pass the defined `automl_config` object to the experiment, and set the output to `True` to view progress during the run. \n",
        "\n",
        "After starting the experiment, the output shown updates live as the experiment runs. For each iteration, you see the model type, the run duration, and the training accuracy. The field `BEST` tracks the best running training score based on your metric type."
      ]
    },
    {
      "cell_type": "code",
      "metadata": {
        "gather": {
          "logged": 1638290291931
        },
        "id": "CAkME6BvN_KX",
        "outputId": "753b72f7-b663-4123-dee8-ed380aac57a8"
      },
      "source": [
        "from azureml.core.experiment import Experiment\n",
        "experiment = Experiment(ws, \"Tutorial-NYCTaxi\")\n",
        "local_run = experiment.submit(automl_config, show_output=True)"
      ],
      "execution_count": null,
      "outputs": [
        {
          "output_type": "stream",
          "name": "stdout",
          "text": "No run_configuration provided, running on local with default configuration\nRunning in the active local environment.\n"
        },
        {
          "output_type": "display_data",
          "data": {
            "text/plain": "<IPython.core.display.HTML object>",
            "text/html": "<table style=\"width:100%\"><tr><th>Experiment</th><th>Id</th><th>Type</th><th>Status</th><th>Details Page</th><th>Docs Page</th></tr><tr><td>Tutorial-NYCTaxi</td><td>AutoML_d0a9605f-d325-4f72-8af4-b13d162dcca4</td><td>automl</td><td>Preparing</td><td><a href=\"https://ml.azure.com/runs/AutoML_d0a9605f-d325-4f72-8af4-b13d162dcca4?wsid=/subscriptions/511cd2ac-97e7-453e-9100-ea5c1b56533c/resourcegroups/dellater/workspaces/skynet2&amp;tid=b127bddb-37e5-4608-a82c-9a3cee140a9b\" target=\"_blank\" rel=\"noopener\">Link to Azure Machine Learning studio</a></td><td><a href=\"https://docs.microsoft.com/en-us/python/api/overview/azure/ml/intro?view=azure-ml-py\" target=\"_blank\" rel=\"noopener\">Link to Documentation</a></td></tr></table>"
          },
          "metadata": {}
        },
        {
          "output_type": "stream",
          "name": "stdout",
          "text": "Current status: DatasetEvaluation. Gathering dataset statistics.\nCurrent status: FeaturesGeneration. Generating features for the dataset.\nCurrent status: DatasetFeaturization. Beginning to fit featurizers and featurize the dataset.\nCurrent status: DatasetFeaturizationCompleted. Completed fit featurizers and featurizing the dataset.\nCurrent status: DatasetCrossValidationSplit. Generating individually featurized CV splits.\n\n****************************************************************************************************\nDATA GUARDRAILS: \n\nTYPE:         Missing feature values imputation\nSTATUS:       PASSED\nDESCRIPTION:  No feature missing values were detected in the training data.\n              Learn more about missing value imputation: https://aka.ms/AutomatedMLFeaturization\n\n****************************************************************************************************\n\nTYPE:         High cardinality feature detection\nSTATUS:       PASSED\nDESCRIPTION:  Your inputs were analyzed, and no high cardinality features were detected.\n              Learn more about high cardinality feature handling: https://aka.ms/AutomatedMLFeaturization\n\n****************************************************************************************************\nCurrent status: ModelSelection. Beginning model selection.\n\n****************************************************************************************************\nITERATION: The iteration being evaluated.\nPIPELINE: A summary description of the pipeline being evaluated.\nDURATION: Time taken for the current iteration.\nMETRIC: The result of computing score on the fitted pipeline.\nBEST: The best observed score thus far.\n****************************************************************************************************\n\n ITERATION   PIPELINE                                       DURATION      METRIC      BEST\n         0   MaxAbsScaler LightGBM                          0:00:27       0.9440    0.9440\n         1   MaxAbsScaler XGBoostRegressor                  0:00:32       0.9444    0.9444\n         2   MaxAbsScaler ElasticNet                        0:00:25       0.9447    0.9447\n         3   StandardScalerWrapper XGBoostRegressor         0:00:33       0.9421    0.9447\n         4   StandardScalerWrapper XGBoostRegressor         0:00:27       0.9397    0.9447\n         5   StandardScalerWrapper ExtremeRandomTrees       0:00:28       0.8733    0.9447\n         6   StandardScalerWrapper RandomForest             0:00:30       0.9415    0.9447\n         7   StandardScalerWrapper DecisionTree             0:00:28       0.9437    0.9447\n         8   StandardScalerWrapper LightGBM                 0:00:32       0.9440    0.9447\n         9   StandardScalerWrapper LightGBM                 0:00:40       0.9430    0.9447\n        10   StandardScalerWrapper ElasticNet               0:00:25       0.9447    0.9447\n        11   StandardScalerWrapper ElasticNet               0:00:26       0.9447    0.9447\n        12   MaxAbsScaler ExtremeRandomTrees                0:01:43       0.9236    0.9447\n        13   StandardScalerWrapper XGBoostRegressor         0:00:31       0.9422    0.9447\n        14   StandardScalerWrapper DecisionTree             0:00:26       0.9438    0.9447\n        15   StandardScalerWrapper ElasticNet               0:00:25       0.9447    0.9447\n        16   StandardScalerWrapper ExtremeRandomTrees       0:00:33       0.9366    0.9447\n        17   MaxAbsScaler DecisionTree                      0:00:26       0.9409    0.9447\n        18   MaxAbsScaler SGD                               0:00:27       0.9446    0.9447\n        19   SparseNormalizer XGBoostRegressor              0:00:55       0.9421    0.9447\n        20   MaxAbsScaler RandomForest                      0:00:28       0.9438    0.9447\n        21   StandardScalerWrapper ExtremeRandomTrees       0:00:52       0.9415    0.9447\n        22   StandardScalerWrapper ElasticNet               0:00:26       0.9448    0.9448\n        23   SparseNormalizer RandomForest                  0:02:30       0.9409    0.9448\n        24   StandardScalerWrapper RandomForest             0:00:29       0.9166    0.9448\n        25   TruncatedSVDWrapper ElasticNet                 0:00:26      -1.0000    0.9448\n        26   MaxAbsScaler GradientBoosting                  0:00:36       0.9428    0.9448\n        27   MaxAbsScaler GradientBoosting                  0:00:31       0.9440    0.9448\n        28   StandardScalerWrapper ElasticNet               0:00:25       0.9448    0.9448\n        29   StandardScalerWrapper RandomForest             0:00:32       0.9365    0.9448\n        30   SparseNormalizer ElasticNet                    0:00:25       0.8525    0.9448\n        31   MaxAbsScaler DecisionTree                      0:00:27       0.9426    0.9448\n        32   StandardScalerWrapper XGBoostRegressor         0:00:34       0.9389    0.9448\n        33                                                  0:10:02          nan    0.9448\nERROR: Iteration timeout reached, skipping execution of the child run. Consider increasing iteration_timeout_minutes.\n        34   SparseNormalizer XGBoostRegressor              0:00:47       0.9423    0.9448\n        35   TruncatedSVDWrapper ElasticNet                 0:00:27       0.8532    0.9448\n        36   MaxAbsScaler LightGBM                          0:00:25       0.9439    0.9448\n        37   SparseNormalizer XGBoostRegressor              0:00:32       0.9442    0.9448\n        38   StandardScalerWrapper LightGBM                 0:00:25       0.9442    0.9448\n        39   VotingEnsemble                                 0:00:50       0.9449    0.9449\n        40   StackEnsemble                                  0:00:42       0.9449    0.9449\nStopping criteria reached at iteration 41. Ending experiment.\n****************************************************************************************************\nCurrent status: BestRunExplainModel. Best run model explanations started\nCurrent status: ModelExplanationDataSetSetup. Model explanations data setup completed\nCurrent status: PickSurrogateModel. Choosing LightGBM as the surrogate model for explanations\nCurrent status: EngineeredFeatureExplanations. Computation of engineered features started\nCurrent status: EngineeredFeatureExplanations. Computation of engineered features completed\nCurrent status: RawFeaturesExplanations. Computation of raw features started\nCurrent status: RawFeaturesExplanations. Computation of raw features completed\nCurrent status: BestRunExplainModel. Best run model explanations completed\n****************************************************************************************************\n"
        },
        {
          "output_type": "stream",
          "name": "stderr",
          "text": "INFO:interpret_community.common.explanation_utils:Using default datastore for uploads\n"
        }
      ]
    },
    {
      "cell_type": "markdown",
      "metadata": {
        "id": "mLGuzThCN_KZ"
      },
      "source": [
        "## Explore the results"
      ]
    },
    {
      "cell_type": "markdown",
      "metadata": {
        "id": "c4264w9vN_Ka"
      },
      "source": [
        "Explore the results of automatic training with a [Jupyter widget](https://docs.microsoft.com/python/api/azureml-widgets/azureml.widgets?view=azure-ml-py). The widget allows you to see a graph and table of all individual run iterations, along with training accuracy metrics and metadata. Additionally, you can filter on different accuracy metrics than your primary metric with the dropdown selector."
      ]
    },
    {
      "cell_type": "code",
      "metadata": {
        "gather": {
          "logged": 1638290305112
        },
        "colab": {
          "referenced_widgets": [
            "a24a94aa8e7440cbbd69b0312e6da2e3"
          ]
        },
        "id": "u_4x0lXlN_Ka",
        "outputId": "6b53c06d-dad3-4117-bcd7-df4a11337728"
      },
      "source": [
        "from azureml.widgets import RunDetails\n",
        "RunDetails(local_run).show()"
      ],
      "execution_count": null,
      "outputs": [
        {
          "output_type": "display_data",
          "data": {
            "text/plain": "_AutoMLWidget(widget_settings={'childWidgetDisplay': 'popup', 'send_telemetry': False, 'log_level': 'INFO', 's…",
            "application/vnd.jupyter.widget-view+json": {
              "version_major": 2,
              "version_minor": 0,
              "model_id": "a24a94aa8e7440cbbd69b0312e6da2e3"
            }
          },
          "metadata": {}
        },
        {
          "output_type": "display_data",
          "data": {
            "application/aml.mini.widget.v1": "{\"status\": \"Completed\", \"workbench_run_details_uri\": \"https://ml.azure.com/runs/AutoML_d0a9605f-d325-4f72-8af4-b13d162dcca4?wsid=/subscriptions/511cd2ac-97e7-453e-9100-ea5c1b56533c/resourcegroups/dellater/workspaces/skynet2&tid=b127bddb-37e5-4608-a82c-9a3cee140a9b\", \"run_id\": \"AutoML_d0a9605f-d325-4f72-8af4-b13d162dcca4\", \"run_properties\": {\"run_id\": \"AutoML_d0a9605f-d325-4f72-8af4-b13d162dcca4\", \"created_utc\": \"2021-11-30T16:00:51.576437Z\", \"properties\": {\"num_iterations\": \"1000\", \"training_type\": \"TrainFull\", \"acquisition_function\": \"EI\", \"primary_metric\": \"spearman_correlation\", \"train_split\": \"0\", \"acquisition_parameter\": \"0\", \"num_cross_validation\": \"5\", \"target\": \"local\", \"AMLSettingsJsonString\": \"{\\\"path\\\":null,\\\"name\\\":\\\"Tutorial-NYCTaxi\\\",\\\"subscription_id\\\":\\\"511cd2ac-97e7-453e-9100-ea5c1b56533c\\\",\\\"resource_group\\\":\\\"dellater\\\",\\\"workspace_name\\\":\\\"skynet2\\\",\\\"region\\\":\\\"eastus\\\",\\\"compute_target\\\":\\\"local\\\",\\\"spark_service\\\":null,\\\"azure_service\\\":\\\"Microsoft.AzureNotebookVM\\\",\\\"many_models\\\":false,\\\"pipeline_fetch_max_batch_size\\\":1,\\\"enable_batch_run\\\":false,\\\"enable_run_restructure\\\":false,\\\"start_auxiliary_runs_before_parent_complete\\\":false,\\\"enable_code_generation\\\":false,\\\"iterations\\\":1000,\\\"primary_metric\\\":\\\"spearman_correlation\\\",\\\"task_type\\\":\\\"regression\\\",\\\"data_script\\\":null,\\\"test_size\\\":0.0,\\\"test_include_predictions_only\\\":false,\\\"validation_size\\\":0.0,\\\"n_cross_validations\\\":5,\\\"y_min\\\":null,\\\"y_max\\\":null,\\\"num_classes\\\":null,\\\"featurization\\\":\\\"auto\\\",\\\"_ignore_package_version_incompatibilities\\\":false,\\\"is_timeseries\\\":false,\\\"max_cores_per_iteration\\\":1,\\\"max_concurrent_iterations\\\":1,\\\"iteration_timeout_minutes\\\":10,\\\"mem_in_mb\\\":null,\\\"enforce_time_on_windows\\\":false,\\\"experiment_timeout_minutes\\\":60,\\\"experiment_exit_score\\\":null,\\\"whitelist_models\\\":null,\\\"blacklist_algos\\\":[\\\"TensorFlowDNN\\\",\\\"TensorFlowLinearRegressor\\\"],\\\"supported_models\\\":[\\\"SGD\\\",\\\"LightGBM\\\",\\\"ElasticNet\\\",\\\"ExtremeRandomTrees\\\",\\\"TensorFlowDNN\\\",\\\"KNN\\\",\\\"LassoLars\\\",\\\"FastLinearRegressor\\\",\\\"RandomForest\\\",\\\"OnlineGradientDescentRegressor\\\",\\\"DecisionTree\\\",\\\"TensorFlowLinearRegressor\\\",\\\"XGBoostRegressor\\\",\\\"GradientBoosting\\\"],\\\"private_models\\\":[],\\\"auto_blacklist\\\":true,\\\"blacklist_samples_reached\\\":false,\\\"exclude_nan_labels\\\":true,\\\"verbosity\\\":20,\\\"_debug_log\\\":\\\"automated_ml_errors.log\\\",\\\"show_warnings\\\":false,\\\"model_explainability\\\":true,\\\"service_url\\\":null,\\\"sdk_url\\\":null,\\\"sdk_packages\\\":null,\\\"enable_onnx_compatible_models\\\":false,\\\"enable_split_onnx_featurizer_estimator_models\\\":false,\\\"vm_type\\\":null,\\\"telemetry_verbosity\\\":20,\\\"send_telemetry\\\":true,\\\"enable_dnn\\\":false,\\\"scenario\\\":\\\"SDK-1.13.0\\\",\\\"environment_label\\\":null,\\\"save_mlflow\\\":false,\\\"force_text_dnn\\\":false,\\\"enable_feature_sweeping\\\":true,\\\"enable_early_stopping\\\":true,\\\"early_stopping_n_iters\\\":10,\\\"metrics\\\":null,\\\"enable_metric_confidence\\\":false,\\\"enable_ensembling\\\":true,\\\"enable_stack_ensembling\\\":true,\\\"ensemble_iterations\\\":15,\\\"enable_tf\\\":false,\\\"enable_subsampling\\\":null,\\\"subsample_seed\\\":null,\\\"enable_nimbusml\\\":false,\\\"enable_streaming\\\":false,\\\"force_streaming\\\":false,\\\"track_child_runs\\\":true,\\\"allowed_private_models\\\":[],\\\"label_column_name\\\":\\\"totalAmount\\\",\\\"weight_column_name\\\":null,\\\"cv_split_column_names\\\":null,\\\"positive_label\\\":null,\\\"enable_local_managed\\\":false,\\\"_local_managed_run_id\\\":null,\\\"cost_mode\\\":1,\\\"lag_length\\\":0,\\\"metric_operation\\\":\\\"maximize\\\",\\\"preprocess\\\":true}\", \"DataPrepJsonString\": null, \"EnableSubsampling\": null, \"runTemplate\": \"AutoML\", \"azureml.runsource\": \"automl\", \"display_task_type\": \"regression\", \"dependencies_versions\": \"{\\\"azureml-widgets\\\": \\\"1.34.0\\\", \\\"azureml-train\\\": \\\"1.34.0\\\", \\\"azureml-train-restclients-hyperdrive\\\": \\\"1.34.0\\\", \\\"azureml-train-core\\\": \\\"1.34.0\\\", \\\"azureml-train-automl\\\": \\\"1.34.0\\\", \\\"azureml-train-automl-runtime\\\": \\\"1.34.0\\\", \\\"azureml-train-automl-client\\\": \\\"1.34.0\\\", \\\"azureml-tensorboard\\\": \\\"1.34.0\\\", \\\"azureml-telemetry\\\": \\\"1.34.0\\\", \\\"azureml-sdk\\\": \\\"1.34.0\\\", \\\"azureml-samples\\\": \\\"0+unknown\\\", \\\"azureml-responsibleai\\\": \\\"1.34.0\\\", \\\"azureml-pipeline\\\": \\\"1.34.0\\\", \\\"azureml-pipeline-steps\\\": \\\"1.34.0\\\", \\\"azureml-pipeline-core\\\": \\\"1.34.0\\\", \\\"azureml-opendatasets\\\": \\\"1.34.0\\\", \\\"azureml-mlflow\\\": \\\"1.34.0\\\", \\\"azureml-interpret\\\": \\\"1.34.0\\\", \\\"azureml-inference-server-http\\\": \\\"0.3.1\\\", \\\"azureml-explain-model\\\": \\\"1.34.0\\\", \\\"azureml-defaults\\\": \\\"1.34.0\\\", \\\"azureml-dataset-runtime\\\": \\\"1.34.0\\\", \\\"azureml-dataprep\\\": \\\"2.22.2\\\", \\\"azureml-dataprep-rslex\\\": \\\"1.20.1\\\", \\\"azureml-dataprep-native\\\": \\\"38.0.0\\\", \\\"azureml-datadrift\\\": \\\"1.34.0\\\", \\\"azureml-core\\\": \\\"1.34.0\\\", \\\"azureml-contrib-services\\\": \\\"1.34.0\\\", \\\"azureml-contrib-server\\\": \\\"1.34.0\\\", \\\"azureml-contrib-reinforcementlearning\\\": \\\"1.34.0\\\", \\\"azureml-contrib-pipeline-steps\\\": \\\"1.34.0\\\", \\\"azureml-contrib-notebook\\\": \\\"1.34.0\\\", \\\"azureml-contrib-fairness\\\": \\\"1.34.0\\\", \\\"azureml-contrib-dataset\\\": \\\"1.34.0\\\", \\\"azureml-contrib-automl-pipeline-steps\\\": \\\"1.34.0\\\", \\\"azureml-cli-common\\\": \\\"1.34.0\\\", \\\"azureml-automl-runtime\\\": \\\"1.34.0\\\", \\\"azureml-automl-dnn-nlp\\\": \\\"1.34.0\\\", \\\"azureml-automl-core\\\": \\\"1.34.0\\\", \\\"azureml-accel-models\\\": \\\"1.34.0\\\"}\", \"_aml_system_scenario_identification\": \"Local.Parent\", \"ClientSdkVersion\": \"1.34.0\", \"ClientType\": \"SDK\", \"environment_cpu_name\": \"AzureML-AutoML\", \"environment_cpu_label\": \"prod\", \"environment_gpu_name\": \"AzureML-AutoML-GPU\", \"environment_gpu_label\": \"prod\", \"root_attribution\": \"automl\", \"attribution\": \"AutoML\", \"Orchestrator\": \"AutoML\", \"_azureml.ComputeTargetType\": \"local\", \"ProblemInfoJsonString\": \"{\\\"dataset_num_categorical\\\": 0, \\\"is_sparse\\\": true, \\\"subsampling\\\": false, \\\"has_extra_col\\\": true, \\\"dataset_classes\\\": 995, \\\"dataset_features\\\": 19, \\\"dataset_samples\\\": 18577, \\\"single_frequency_class_detected\\\": false}\"}, \"tags\": {\"model_explain_run\": \"best_run\", \"best_score\": \"0.9449054969556284\", \"best_pipeline\": \"VotingEnsemble\", \"automl_best_child_run_id\": \"AutoML_d0a9605f-d325-4f72-8af4-b13d162dcca4_39\", \"model_explain_best_run_child_id\": \"AutoML_d0a9605f-d325-4f72-8af4-b13d162dcca4_39\"}, \"end_time_utc\": \"2021-11-30T16:36:33.20658Z\", \"status\": \"Completed\", \"log_files\": {}, \"log_groups\": [], \"run_duration\": \"0:35:41\", \"run_number\": \"32\", \"run_queued_details\": {\"status\": \"Completed\", \"details\": null}}, \"child_runs\": [{\"run_id\": \"AutoML_d0a9605f-d325-4f72-8af4-b13d162dcca4_0\", \"run_number\": 33, \"metric\": null, \"status\": \"Completed\", \"run_type\": null, \"training_percent\": \"100\", \"start_time\": \"2021-11-30T16:01:05.491094Z\", \"end_time\": \"2021-11-30T16:01:32.988691Z\", \"created_time\": \"2021-11-30T16:01:05.379679Z\", \"created_time_dt\": \"2021-11-30T16:01:05.379679Z\", \"duration\": \"0:00:27\", \"iteration\": \"0\", \"goal\": \"spearman_correlation_max\", \"run_name\": \"MaxAbsScaler, LightGBM\", \"run_properties\": \"copy=True\", \"primary_metric\": 0.94402079, \"best_metric\": 0.94402079}, {\"run_id\": \"AutoML_d0a9605f-d325-4f72-8af4-b13d162dcca4_1\", \"run_number\": 34, \"metric\": null, \"status\": \"Completed\", \"run_type\": null, \"training_percent\": \"100\", \"start_time\": \"2021-11-30T16:01:33.440662Z\", \"end_time\": \"2021-11-30T16:02:06.217366Z\", \"created_time\": \"2021-11-30T16:01:33.288754Z\", \"created_time_dt\": \"2021-11-30T16:01:33.288754Z\", \"duration\": \"0:00:32\", \"iteration\": \"1\", \"goal\": \"spearman_correlation_max\", \"run_name\": \"MaxAbsScaler, XGBoostRegressor\", \"run_properties\": \"copy=True\", \"primary_metric\": 0.9443785, \"best_metric\": 0.9443785}, {\"run_id\": \"AutoML_d0a9605f-d325-4f72-8af4-b13d162dcca4_2\", \"run_number\": 35, \"metric\": null, \"status\": \"Completed\", \"run_type\": null, \"training_percent\": \"100\", \"start_time\": \"2021-11-30T16:02:08.191216Z\", \"end_time\": \"2021-11-30T16:02:33.540554Z\", \"created_time\": \"2021-11-30T16:02:08.078696Z\", \"created_time_dt\": \"2021-11-30T16:02:08.078696Z\", \"duration\": \"0:00:25\", \"iteration\": \"2\", \"goal\": \"spearman_correlation_max\", \"run_name\": \"MaxAbsScaler, ElasticNet\", \"run_properties\": \"copy=True\", \"primary_metric\": 0.94472331, \"best_metric\": 0.94472331}, {\"run_id\": \"AutoML_d0a9605f-d325-4f72-8af4-b13d162dcca4_3\", \"run_number\": 36, \"metric\": null, \"status\": \"Completed\", \"run_type\": null, \"training_percent\": \"100\", \"start_time\": \"2021-11-30T16:02:34.812072Z\", \"end_time\": \"2021-11-30T16:03:08.683853Z\", \"created_time\": \"2021-11-30T16:02:34.669312Z\", \"created_time_dt\": \"2021-11-30T16:02:34.669312Z\", \"duration\": \"0:00:34\", \"iteration\": \"3\", \"goal\": \"spearman_correlation_max\", \"run_name\": \"StandardScalerWrapper, XGBoostRegressor\", \"run_properties\": \"\\n    copy=True,\\n    with_mean=False,\\n    with_std=False\\n\", \"primary_metric\": 0.94207911, \"best_metric\": 0.94472331}, {\"run_id\": \"AutoML_d0a9605f-d325-4f72-8af4-b13d162dcca4_4\", \"run_number\": 37, \"metric\": null, \"status\": \"Completed\", \"run_type\": null, \"training_percent\": \"100\", \"start_time\": \"2021-11-30T16:03:10.068607Z\", \"end_time\": \"2021-11-30T16:03:37.006059Z\", \"created_time\": \"2021-11-30T16:03:09.951369Z\", \"created_time_dt\": \"2021-11-30T16:03:09.951369Z\", \"duration\": \"0:00:27\", \"iteration\": \"4\", \"goal\": \"spearman_correlation_max\", \"run_name\": \"StandardScalerWrapper, XGBoostRegressor\", \"run_properties\": \"\\n    copy=True,\\n    with_mean=False,\\n    with_std=False\\n\", \"primary_metric\": 0.93967836, \"best_metric\": 0.94472331}, {\"run_id\": \"AutoML_d0a9605f-d325-4f72-8af4-b13d162dcca4_5\", \"run_number\": 38, \"metric\": null, \"status\": \"Completed\", \"run_type\": null, \"training_percent\": \"100\", \"start_time\": \"2021-11-30T16:03:39.753468Z\", \"end_time\": \"2021-11-30T16:04:07.689221Z\", \"created_time\": \"2021-11-30T16:03:39.636055Z\", \"created_time_dt\": \"2021-11-30T16:03:39.636055Z\", \"duration\": \"0:00:28\", \"iteration\": \"5\", \"goal\": \"spearman_correlation_max\", \"run_name\": \"StandardScalerWrapper, ExtremeRandomTrees\", \"run_properties\": \"\\n    copy=True,\\n    with_mean=False,\\n    with_std=False\\n\", \"primary_metric\": 0.87332538, \"best_metric\": 0.94472331}, {\"run_id\": \"AutoML_d0a9605f-d325-4f72-8af4-b13d162dcca4_6\", \"run_number\": 39, \"metric\": null, \"status\": \"Completed\", \"run_type\": null, \"training_percent\": \"100\", \"start_time\": \"2021-11-30T16:04:09.048245Z\", \"end_time\": \"2021-11-30T16:04:39.733722Z\", \"created_time\": \"2021-11-30T16:04:08.932345Z\", \"created_time_dt\": \"2021-11-30T16:04:08.932345Z\", \"duration\": \"0:00:30\", \"iteration\": \"6\", \"goal\": \"spearman_correlation_max\", \"run_name\": \"StandardScalerWrapper, RandomForest\", \"run_properties\": \"\\n    copy=True,\\n    with_mean=False,\\n    with_std=True\\n\", \"primary_metric\": 0.94154266, \"best_metric\": 0.94472331}, {\"run_id\": \"AutoML_d0a9605f-d325-4f72-8af4-b13d162dcca4_7\", \"run_number\": 40, \"metric\": null, \"status\": \"Completed\", \"run_type\": null, \"training_percent\": \"100\", \"start_time\": \"2021-11-30T16:04:43.317729Z\", \"end_time\": \"2021-11-30T16:05:11.237207Z\", \"created_time\": \"2021-11-30T16:04:43.167374Z\", \"created_time_dt\": \"2021-11-30T16:04:43.167374Z\", \"duration\": \"0:00:28\", \"iteration\": \"7\", \"goal\": \"spearman_correlation_max\", \"run_name\": \"StandardScalerWrapper, DecisionTree\", \"run_properties\": \"\\n    copy=True,\\n    with_mean=False,\\n    with_std=True\\n\", \"primary_metric\": 0.94370023, \"best_metric\": 0.94472331}, {\"run_id\": \"AutoML_d0a9605f-d325-4f72-8af4-b13d162dcca4_8\", \"run_number\": 41, \"metric\": null, \"status\": \"Completed\", \"run_type\": null, \"training_percent\": \"100\", \"start_time\": \"2021-11-30T16:05:12.629125Z\", \"end_time\": \"2021-11-30T16:05:45.024862Z\", \"created_time\": \"2021-11-30T16:05:12.499341Z\", \"created_time_dt\": \"2021-11-30T16:05:12.499341Z\", \"duration\": \"0:00:32\", \"iteration\": \"8\", \"goal\": \"spearman_correlation_max\", \"run_name\": \"StandardScalerWrapper, LightGBM\", \"run_properties\": \"\\n    copy=True,\\n    with_mean=False,\\n    with_std=True\\n\", \"primary_metric\": 0.9439918, \"best_metric\": 0.94472331}, {\"run_id\": \"AutoML_d0a9605f-d325-4f72-8af4-b13d162dcca4_9\", \"run_number\": 42, \"metric\": null, \"status\": \"Completed\", \"run_type\": null, \"training_percent\": \"100\", \"start_time\": \"2021-11-30T16:05:46.683434Z\", \"end_time\": \"2021-11-30T16:06:27.198374Z\", \"created_time\": \"2021-11-30T16:05:46.568361Z\", \"created_time_dt\": \"2021-11-30T16:05:46.568361Z\", \"duration\": \"0:00:40\", \"iteration\": \"9\", \"goal\": \"spearman_correlation_max\", \"run_name\": \"StandardScalerWrapper, LightGBM\", \"run_properties\": \"\\n    copy=True,\\n    with_mean=False,\\n    with_std=False\\n\", \"primary_metric\": 0.94295045, \"best_metric\": 0.94472331}, {\"run_id\": \"AutoML_d0a9605f-d325-4f72-8af4-b13d162dcca4_10\", \"run_number\": 43, \"metric\": null, \"status\": \"Completed\", \"run_type\": null, \"training_percent\": \"100\", \"start_time\": \"2021-11-30T16:06:28.493344Z\", \"end_time\": \"2021-11-30T16:06:53.523079Z\", \"created_time\": \"2021-11-30T16:06:28.358302Z\", \"created_time_dt\": \"2021-11-30T16:06:28.358302Z\", \"duration\": \"0:00:25\", \"iteration\": \"10\", \"goal\": \"spearman_correlation_max\", \"run_name\": \"StandardScalerWrapper, ElasticNet\", \"run_properties\": \"\\n    copy=True,\\n    with_mean=False,\\n    with_std=True\\n\", \"primary_metric\": 0.9447427, \"best_metric\": 0.9447427}, {\"run_id\": \"AutoML_d0a9605f-d325-4f72-8af4-b13d162dcca4_11\", \"run_number\": 44, \"metric\": null, \"status\": \"Completed\", \"run_type\": null, \"training_percent\": \"100\", \"start_time\": \"2021-11-30T16:06:54.866445Z\", \"end_time\": \"2021-11-30T16:07:21.728669Z\", \"created_time\": \"2021-11-30T16:06:54.702777Z\", \"created_time_dt\": \"2021-11-30T16:06:54.702777Z\", \"duration\": \"0:00:27\", \"iteration\": \"11\", \"goal\": \"spearman_correlation_max\", \"run_name\": \"StandardScalerWrapper, ElasticNet\", \"run_properties\": \"\\n    copy=True,\\n    with_mean=False,\\n    with_std=False\\n\", \"primary_metric\": 0.94468821, \"best_metric\": 0.9447427}, {\"run_id\": \"AutoML_d0a9605f-d325-4f72-8af4-b13d162dcca4_12\", \"run_number\": 45, \"metric\": null, \"status\": \"Completed\", \"run_type\": null, \"training_percent\": \"100\", \"start_time\": \"2021-11-30T16:07:23.041647Z\", \"end_time\": \"2021-11-30T16:09:06.332324Z\", \"created_time\": \"2021-11-30T16:07:22.926742Z\", \"created_time_dt\": \"2021-11-30T16:07:22.926742Z\", \"duration\": \"0:01:43\", \"iteration\": \"12\", \"goal\": \"spearman_correlation_max\", \"run_name\": \"MaxAbsScaler, ExtremeRandomTrees\", \"run_properties\": \"copy=True\", \"primary_metric\": 0.92355791, \"best_metric\": 0.9447427}, {\"run_id\": \"AutoML_d0a9605f-d325-4f72-8af4-b13d162dcca4_13\", \"run_number\": 46, \"metric\": null, \"status\": \"Completed\", \"run_type\": null, \"training_percent\": \"100\", \"start_time\": \"2021-11-30T16:09:07.633434Z\", \"end_time\": \"2021-11-30T16:09:39.459636Z\", \"created_time\": \"2021-11-30T16:09:07.523032Z\", \"created_time_dt\": \"2021-11-30T16:09:07.523032Z\", \"duration\": \"0:00:31\", \"iteration\": \"13\", \"goal\": \"spearman_correlation_max\", \"run_name\": \"StandardScalerWrapper, XGBoostRegressor\", \"run_properties\": \"\\n    copy=True,\\n    with_mean=False,\\n    with_std=False\\n\", \"primary_metric\": 0.94219438, \"best_metric\": 0.9447427}, {\"run_id\": \"AutoML_d0a9605f-d325-4f72-8af4-b13d162dcca4_14\", \"run_number\": 47, \"metric\": null, \"status\": \"Completed\", \"run_type\": null, \"training_percent\": \"100\", \"start_time\": \"2021-11-30T16:09:40.847729Z\", \"end_time\": \"2021-11-30T16:10:07.04117Z\", \"created_time\": \"2021-11-30T16:09:40.734525Z\", \"created_time_dt\": \"2021-11-30T16:09:40.734525Z\", \"duration\": \"0:00:26\", \"iteration\": \"14\", \"goal\": \"spearman_correlation_max\", \"run_name\": \"StandardScalerWrapper, DecisionTree\", \"run_properties\": \"\\n    copy=True,\\n    with_mean=False,\\n    with_std=True\\n\", \"primary_metric\": 0.94376478, \"best_metric\": 0.9447427}, {\"run_id\": \"AutoML_d0a9605f-d325-4f72-8af4-b13d162dcca4_15\", \"run_number\": 48, \"metric\": null, \"status\": \"Completed\", \"run_type\": null, \"training_percent\": \"100\", \"start_time\": \"2021-11-30T16:10:10.185303Z\", \"end_time\": \"2021-11-30T16:10:35.225914Z\", \"created_time\": \"2021-11-30T16:10:10.048994Z\", \"created_time_dt\": \"2021-11-30T16:10:10.048994Z\", \"duration\": \"0:00:25\", \"iteration\": \"15\", \"goal\": \"spearman_correlation_max\", \"run_name\": \"StandardScalerWrapper, ElasticNet\", \"run_properties\": \"\\n    copy=True,\\n    with_mean=False,\\n    with_std=True\\n\", \"primary_metric\": 0.94466839, \"best_metric\": 0.9447427}, {\"run_id\": \"AutoML_d0a9605f-d325-4f72-8af4-b13d162dcca4_16\", \"run_number\": 49, \"metric\": null, \"status\": \"Completed\", \"run_type\": null, \"training_percent\": \"100\", \"start_time\": \"2021-11-30T16:10:36.46591Z\", \"end_time\": \"2021-11-30T16:11:09.581306Z\", \"created_time\": \"2021-11-30T16:10:36.353319Z\", \"created_time_dt\": \"2021-11-30T16:10:36.353319Z\", \"duration\": \"0:00:33\", \"iteration\": \"16\", \"goal\": \"spearman_correlation_max\", \"run_name\": \"StandardScalerWrapper, ExtremeRandomTrees\", \"run_properties\": \"\\n    copy=True,\\n    with_mean=False,\\n    with_std=False\\n\", \"primary_metric\": 0.93662491, \"best_metric\": 0.9447427}, {\"run_id\": \"AutoML_d0a9605f-d325-4f72-8af4-b13d162dcca4_17\", \"run_number\": 50, \"metric\": null, \"status\": \"Completed\", \"run_type\": null, \"training_percent\": \"100\", \"start_time\": \"2021-11-30T16:11:10.901097Z\", \"end_time\": \"2021-11-30T16:11:37.069389Z\", \"created_time\": \"2021-11-30T16:11:10.773896Z\", \"created_time_dt\": \"2021-11-30T16:11:10.773896Z\", \"duration\": \"0:00:26\", \"iteration\": \"17\", \"goal\": \"spearman_correlation_max\", \"run_name\": \"MaxAbsScaler, DecisionTree\", \"run_properties\": \"copy=True\", \"primary_metric\": 0.94086997, \"best_metric\": 0.9447427}, {\"run_id\": \"AutoML_d0a9605f-d325-4f72-8af4-b13d162dcca4_18\", \"run_number\": 51, \"metric\": null, \"status\": \"Completed\", \"run_type\": null, \"training_percent\": \"100\", \"start_time\": \"2021-11-30T16:11:38.509867Z\", \"end_time\": \"2021-11-30T16:12:05.540092Z\", \"created_time\": \"2021-11-30T16:11:38.370314Z\", \"created_time_dt\": \"2021-11-30T16:11:38.370314Z\", \"duration\": \"0:00:27\", \"iteration\": \"18\", \"goal\": \"spearman_correlation_max\", \"run_name\": \"MaxAbsScaler, SGD\", \"run_properties\": \"copy=True\", \"primary_metric\": 0.94464825, \"best_metric\": 0.9447427}, {\"run_id\": \"AutoML_d0a9605f-d325-4f72-8af4-b13d162dcca4_19\", \"run_number\": 52, \"metric\": null, \"status\": \"Completed\", \"run_type\": null, \"training_percent\": \"100\", \"start_time\": \"2021-11-30T16:12:06.792309Z\", \"end_time\": \"2021-11-30T16:13:02.154554Z\", \"created_time\": \"2021-11-30T16:12:06.675948Z\", \"created_time_dt\": \"2021-11-30T16:12:06.675948Z\", \"duration\": \"0:00:55\", \"iteration\": \"19\", \"goal\": \"spearman_correlation_max\", \"run_name\": \"SparseNormalizer, XGBoostRegressor\", \"run_properties\": \"copy=True, norm='l1'\", \"primary_metric\": 0.94205406, \"best_metric\": 0.9447427}, {\"run_id\": \"AutoML_d0a9605f-d325-4f72-8af4-b13d162dcca4_20\", \"run_number\": 53, \"metric\": null, \"status\": \"Completed\", \"run_type\": null, \"training_percent\": \"100\", \"start_time\": \"2021-11-30T16:13:03.709156Z\", \"end_time\": \"2021-11-30T16:13:32.561357Z\", \"created_time\": \"2021-11-30T16:13:03.576462Z\", \"created_time_dt\": \"2021-11-30T16:13:03.576462Z\", \"duration\": \"0:00:28\", \"iteration\": \"20\", \"goal\": \"spearman_correlation_max\", \"run_name\": \"MaxAbsScaler, RandomForest\", \"run_properties\": \"copy=True\", \"primary_metric\": 0.94381862, \"best_metric\": 0.9447427}, {\"run_id\": \"AutoML_d0a9605f-d325-4f72-8af4-b13d162dcca4_21\", \"run_number\": 54, \"metric\": null, \"status\": \"Completed\", \"run_type\": null, \"training_percent\": \"100\", \"start_time\": \"2021-11-30T16:13:33.988211Z\", \"end_time\": \"2021-11-30T16:14:25.964508Z\", \"created_time\": \"2021-11-30T16:13:33.876743Z\", \"created_time_dt\": \"2021-11-30T16:13:33.876743Z\", \"duration\": \"0:00:52\", \"iteration\": \"21\", \"goal\": \"spearman_correlation_max\", \"run_name\": \"StandardScalerWrapper, ExtremeRandomTrees\", \"run_properties\": \"\\n    copy=True,\\n    with_mean=False,\\n    with_std=True\\n\", \"primary_metric\": 0.94149091, \"best_metric\": 0.9447427}, {\"run_id\": \"AutoML_d0a9605f-d325-4f72-8af4-b13d162dcca4_22\", \"run_number\": 55, \"metric\": null, \"status\": \"Completed\", \"run_type\": null, \"training_percent\": \"100\", \"start_time\": \"2021-11-30T16:14:27.329518Z\", \"end_time\": \"2021-11-30T16:14:53.711282Z\", \"created_time\": \"2021-11-30T16:14:27.205686Z\", \"created_time_dt\": \"2021-11-30T16:14:27.205686Z\", \"duration\": \"0:00:26\", \"iteration\": \"22\", \"goal\": \"spearman_correlation_max\", \"run_name\": \"StandardScalerWrapper, ElasticNet\", \"run_properties\": \"\\n    copy=True,\\n    with_mean=False,\\n    with_std=True\\n\", \"primary_metric\": 0.9447816, \"best_metric\": 0.9447816}, {\"run_id\": \"AutoML_d0a9605f-d325-4f72-8af4-b13d162dcca4_23\", \"run_number\": 56, \"metric\": null, \"status\": \"Completed\", \"run_type\": null, \"training_percent\": \"100\", \"start_time\": \"2021-11-30T16:14:55.131983Z\", \"end_time\": \"2021-11-30T16:17:25.471243Z\", \"created_time\": \"2021-11-30T16:14:55.024668Z\", \"created_time_dt\": \"2021-11-30T16:14:55.024668Z\", \"duration\": \"0:02:30\", \"iteration\": \"23\", \"goal\": \"spearman_correlation_max\", \"run_name\": \"SparseNormalizer, RandomForest\", \"run_properties\": \"copy=True, norm='l1'\", \"primary_metric\": 0.94087794, \"best_metric\": 0.9447816}, {\"run_id\": \"AutoML_d0a9605f-d325-4f72-8af4-b13d162dcca4_24\", \"run_number\": 57, \"metric\": null, \"status\": \"Completed\", \"run_type\": null, \"training_percent\": \"100\", \"start_time\": \"2021-11-30T16:17:26.625017Z\", \"end_time\": \"2021-11-30T16:17:56.456027Z\", \"created_time\": \"2021-11-30T16:17:26.511122Z\", \"created_time_dt\": \"2021-11-30T16:17:26.511122Z\", \"duration\": \"0:00:29\", \"iteration\": \"24\", \"goal\": \"spearman_correlation_max\", \"run_name\": \"StandardScalerWrapper, RandomForest\", \"run_properties\": \"\\n    copy=True,\\n    with_mean=False,\\n    with_std=True\\n\", \"primary_metric\": 0.91663801, \"best_metric\": 0.9447816}, {\"run_id\": \"AutoML_d0a9605f-d325-4f72-8af4-b13d162dcca4_25\", \"run_number\": 58, \"metric\": null, \"status\": \"Completed\", \"run_type\": null, \"training_percent\": \"100\", \"start_time\": \"2021-11-30T16:17:58.840713Z\", \"end_time\": \"2021-11-30T16:18:25.666298Z\", \"created_time\": \"2021-11-30T16:17:58.706817Z\", \"created_time_dt\": \"2021-11-30T16:17:58.706817Z\", \"duration\": \"0:00:26\", \"iteration\": \"25\", \"goal\": \"spearman_correlation_max\", \"run_name\": \"TruncatedSVDWrapper, ElasticNet\", \"run_properties\": \"n_components=0.6531578947368422, random_state=None\", \"primary_metric\": -1.0, \"best_metric\": 0.9447816}, {\"run_id\": \"AutoML_d0a9605f-d325-4f72-8af4-b13d162dcca4_26\", \"run_number\": 59, \"metric\": null, \"status\": \"Completed\", \"run_type\": null, \"training_percent\": \"100\", \"start_time\": \"2021-11-30T16:18:26.851493Z\", \"end_time\": \"2021-11-30T16:19:03.181746Z\", \"created_time\": \"2021-11-30T16:18:26.744894Z\", \"created_time_dt\": \"2021-11-30T16:18:26.744894Z\", \"duration\": \"0:00:36\", \"iteration\": \"26\", \"goal\": \"spearman_correlation_max\", \"run_name\": \"MaxAbsScaler, GradientBoosting\", \"run_properties\": \"copy=True\", \"primary_metric\": 0.94279874, \"best_metric\": 0.9447816}, {\"run_id\": \"AutoML_d0a9605f-d325-4f72-8af4-b13d162dcca4_27\", \"run_number\": 60, \"metric\": null, \"status\": \"Completed\", \"run_type\": null, \"training_percent\": \"100\", \"start_time\": \"2021-11-30T16:19:04.557075Z\", \"end_time\": \"2021-11-30T16:19:35.503883Z\", \"created_time\": \"2021-11-30T16:19:04.427258Z\", \"created_time_dt\": \"2021-11-30T16:19:04.427258Z\", \"duration\": \"0:00:31\", \"iteration\": \"27\", \"goal\": \"spearman_correlation_max\", \"run_name\": \"MaxAbsScaler, GradientBoosting\", \"run_properties\": \"copy=True\", \"primary_metric\": 0.94395042, \"best_metric\": 0.9447816}, {\"run_id\": \"AutoML_d0a9605f-d325-4f72-8af4-b13d162dcca4_28\", \"run_number\": 61, \"metric\": null, \"status\": \"Completed\", \"run_type\": null, \"training_percent\": \"100\", \"start_time\": \"2021-11-30T16:19:36.834268Z\", \"end_time\": \"2021-11-30T16:20:01.812223Z\", \"created_time\": \"2021-11-30T16:19:36.726081Z\", \"created_time_dt\": \"2021-11-30T16:19:36.726081Z\", \"duration\": \"0:00:25\", \"iteration\": \"28\", \"goal\": \"spearman_correlation_max\", \"run_name\": \"StandardScalerWrapper, ElasticNet\", \"run_properties\": \"\\n    copy=True,\\n    with_mean=False,\\n    with_std=False\\n\", \"primary_metric\": 0.94480266, \"best_metric\": 0.94480266}, {\"run_id\": \"AutoML_d0a9605f-d325-4f72-8af4-b13d162dcca4_29\", \"run_number\": 62, \"metric\": null, \"status\": \"Completed\", \"run_type\": null, \"training_percent\": \"100\", \"start_time\": \"2021-11-30T16:20:03.235349Z\", \"end_time\": \"2021-11-30T16:20:35.477498Z\", \"created_time\": \"2021-11-30T16:20:03.09737Z\", \"created_time_dt\": \"2021-11-30T16:20:03.09737Z\", \"duration\": \"0:00:32\", \"iteration\": \"29\", \"goal\": \"spearman_correlation_max\", \"run_name\": \"StandardScalerWrapper, RandomForest\", \"run_properties\": \"\\n    copy=True,\\n    with_mean=False,\\n    with_std=True\\n\", \"primary_metric\": 0.93652654, \"best_metric\": 0.94480266}, {\"run_id\": \"AutoML_d0a9605f-d325-4f72-8af4-b13d162dcca4_30\", \"run_number\": 63, \"metric\": null, \"status\": \"Completed\", \"run_type\": null, \"training_percent\": \"100\", \"start_time\": \"2021-11-30T16:20:37.966876Z\", \"end_time\": \"2021-11-30T16:21:03.119123Z\", \"created_time\": \"2021-11-30T16:20:37.846685Z\", \"created_time_dt\": \"2021-11-30T16:20:37.846685Z\", \"duration\": \"0:00:25\", \"iteration\": \"30\", \"goal\": \"spearman_correlation_max\", \"run_name\": \"SparseNormalizer, ElasticNet\", \"run_properties\": \"copy=True, norm='l2'\", \"primary_metric\": 0.85250495, \"best_metric\": 0.94480266}, {\"run_id\": \"AutoML_d0a9605f-d325-4f72-8af4-b13d162dcca4_31\", \"run_number\": 64, \"metric\": null, \"status\": \"Completed\", \"run_type\": null, \"training_percent\": \"100\", \"start_time\": \"2021-11-30T16:21:04.640684Z\", \"end_time\": \"2021-11-30T16:21:31.698202Z\", \"created_time\": \"2021-11-30T16:21:04.497708Z\", \"created_time_dt\": \"2021-11-30T16:21:04.497708Z\", \"duration\": \"0:00:27\", \"iteration\": \"31\", \"goal\": \"spearman_correlation_max\", \"run_name\": \"MaxAbsScaler, DecisionTree\", \"run_properties\": \"copy=True\", \"primary_metric\": 0.94261794, \"best_metric\": 0.94480266}, {\"run_id\": \"AutoML_d0a9605f-d325-4f72-8af4-b13d162dcca4_32\", \"run_number\": 65, \"metric\": null, \"status\": \"Completed\", \"run_type\": null, \"training_percent\": \"100\", \"start_time\": \"2021-11-30T16:21:33.170875Z\", \"end_time\": \"2021-11-30T16:22:07.740343Z\", \"created_time\": \"2021-11-30T16:21:33.045011Z\", \"created_time_dt\": \"2021-11-30T16:21:33.045011Z\", \"duration\": \"0:00:34\", \"iteration\": \"32\", \"goal\": \"spearman_correlation_max\", \"run_name\": \"StandardScalerWrapper, XGBoostRegressor\", \"run_properties\": \"\\n    copy=True,\\n    with_mean=False,\\n    with_std=False\\n\", \"primary_metric\": 0.93889536, \"best_metric\": 0.94480266}, {\"run_id\": \"AutoML_d0a9605f-d325-4f72-8af4-b13d162dcca4_33\", \"run_number\": 66, \"metric\": null, \"status\": \"Failed\", \"run_type\": null, \"training_percent\": \"100\", \"start_time\": \"2021-11-30T16:22:09.265478Z\", \"end_time\": \"2021-11-30T16:32:11.796925Z\", \"created_time\": \"2021-11-30T16:22:09.143198Z\", \"created_time_dt\": \"2021-11-30T16:22:09.143198Z\", \"duration\": \"0:10:02\", \"iteration\": \"33\", \"goal\": \"spearman_correlation_max\", \"run_name\": \"MaxAbsScaler, ExtremeRandomTrees\", \"run_properties\": null}, {\"run_id\": \"AutoML_d0a9605f-d325-4f72-8af4-b13d162dcca4_34\", \"run_number\": 67, \"metric\": null, \"status\": \"Completed\", \"run_type\": null, \"training_percent\": \"100\", \"start_time\": \"2021-11-30T16:32:13.255208Z\", \"end_time\": \"2021-11-30T16:33:00.316187Z\", \"created_time\": \"2021-11-30T16:32:13.145372Z\", \"created_time_dt\": \"2021-11-30T16:32:13.145372Z\", \"duration\": \"0:00:47\", \"iteration\": \"34\", \"goal\": \"spearman_correlation_max\", \"run_name\": \"SparseNormalizer, XGBoostRegressor\", \"run_properties\": \"copy=True, norm='l2'\", \"primary_metric\": 0.94227832, \"best_metric\": 0.94480266}, {\"run_id\": \"AutoML_d0a9605f-d325-4f72-8af4-b13d162dcca4_35\", \"run_number\": 68, \"metric\": null, \"status\": \"Completed\", \"run_type\": null, \"training_percent\": \"100\", \"start_time\": \"2021-11-30T16:33:02.763554Z\", \"end_time\": \"2021-11-30T16:33:29.705947Z\", \"created_time\": \"2021-11-30T16:33:02.644373Z\", \"created_time_dt\": \"2021-11-30T16:33:02.644373Z\", \"duration\": \"0:00:27\", \"iteration\": \"35\", \"goal\": \"spearman_correlation_max\", \"run_name\": \"TruncatedSVDWrapper, ElasticNet\", \"run_properties\": \"n_components=0.95, random_state=None\", \"primary_metric\": 0.85322961, \"best_metric\": 0.94480266}, {\"run_id\": \"AutoML_d0a9605f-d325-4f72-8af4-b13d162dcca4_36\", \"run_number\": 69, \"metric\": null, \"status\": \"Completed\", \"run_type\": null, \"training_percent\": \"100\", \"start_time\": \"2021-11-30T16:33:31.179248Z\", \"end_time\": \"2021-11-30T16:33:56.63058Z\", \"created_time\": \"2021-11-30T16:33:31.072801Z\", \"created_time_dt\": \"2021-11-30T16:33:31.072801Z\", \"duration\": \"0:00:25\", \"iteration\": \"36\", \"goal\": \"spearman_correlation_max\", \"run_name\": \"MaxAbsScaler, LightGBM\", \"run_properties\": \"copy=True\", \"primary_metric\": 0.94391845, \"best_metric\": 0.94480266}, {\"run_id\": \"AutoML_d0a9605f-d325-4f72-8af4-b13d162dcca4_37\", \"run_number\": 70, \"metric\": null, \"status\": \"Completed\", \"run_type\": null, \"training_percent\": \"100\", \"start_time\": \"2021-11-30T16:33:58.027073Z\", \"end_time\": \"2021-11-30T16:34:30.900108Z\", \"created_time\": \"2021-11-30T16:33:57.927685Z\", \"created_time_dt\": \"2021-11-30T16:33:57.927685Z\", \"duration\": \"0:00:32\", \"iteration\": \"37\", \"goal\": \"spearman_correlation_max\", \"run_name\": \"SparseNormalizer, XGBoostRegressor\", \"run_properties\": \"copy=True, norm='l2'\", \"primary_metric\": 0.94419535, \"best_metric\": 0.94480266}, {\"run_id\": \"AutoML_d0a9605f-d325-4f72-8af4-b13d162dcca4_38\", \"run_number\": 71, \"metric\": null, \"status\": \"Completed\", \"run_type\": null, \"training_percent\": \"100\", \"start_time\": \"2021-11-30T16:34:32.986215Z\", \"end_time\": \"2021-11-30T16:34:58.593301Z\", \"created_time\": \"2021-11-30T16:34:32.893333Z\", \"created_time_dt\": \"2021-11-30T16:34:32.893333Z\", \"duration\": \"0:00:25\", \"iteration\": \"38\", \"goal\": \"spearman_correlation_max\", \"run_name\": \"StandardScalerWrapper, LightGBM\", \"run_properties\": \"\\n    copy=True,\\n    with_mean=False,\\n    with_std=False\\n\", \"primary_metric\": 0.94420014, \"best_metric\": 0.94480266}, {\"run_id\": \"AutoML_d0a9605f-d325-4f72-8af4-b13d162dcca4_39\", \"run_number\": 72, \"metric\": null, \"status\": \"Completed\", \"run_type\": null, \"training_percent\": \"100\", \"start_time\": \"2021-11-30T16:35:00.09809Z\", \"end_time\": \"2021-11-30T16:35:50.009376Z\", \"created_time\": \"2021-11-30T16:34:59.989192Z\", \"created_time_dt\": \"2021-11-30T16:34:59.989192Z\", \"duration\": \"0:00:50\", \"iteration\": \"39\", \"goal\": \"spearman_correlation_max\", \"run_name\": \"VotingEnsemble\", \"run_properties\": \"\\n    estimators=[('28', Pipeline(\\n        memory=None,\\n        steps=[('standardscalerwrapper', StandardScalerWrapper(\\n            copy=True,\\n            with_mean=False,\\n            with_std=False\\n        \", \"primary_metric\": 0.9449055, \"best_metric\": 0.9449055}, {\"run_id\": \"AutoML_d0a9605f-d325-4f72-8af4-b13d162dcca4_40\", \"run_number\": 73, \"metric\": null, \"status\": \"Completed\", \"run_type\": null, \"training_percent\": \"100\", \"start_time\": \"2021-11-30T16:35:50.389873Z\", \"end_time\": \"2021-11-30T16:36:32.713565Z\", \"created_time\": \"2021-11-30T16:35:50.283603Z\", \"created_time_dt\": \"2021-11-30T16:35:50.283603Z\", \"duration\": \"0:00:42\", \"iteration\": \"40\", \"goal\": \"spearman_correlation_max\", \"run_name\": \"StackEnsemble\", \"run_properties\": \"\\n    base_learners=[('28', Pipeline(\\n        memory=None,\\n        steps=[('standardscalerwrapper', StandardScalerWrapper(\\n            copy=True,\\n            with_mean=False,\\n            with_std=False\\n        \", \"primary_metric\": 0.94488518, \"best_metric\": 0.9449055}], \"children_metrics\": {\"categories\": [0], \"series\": {\"normalized_mean_absolute_error\": [{\"categories\": [\"0\", \"1\", \"2\", \"3\", \"4\", \"5\", \"6\", \"7\", \"8\", \"9\", \"10\", \"11\", \"12\", \"13\", \"14\", \"15\", \"16\", \"17\", \"18\", \"19\", \"20\", \"21\", \"22\", \"23\", \"24\", \"25\", \"26\", \"27\", \"28\", \"29\", \"30\", \"31\", \"32\", \"34\", \"35\", \"36\", \"37\", \"38\", \"39\", \"40\"], \"mode\": \"markers\", \"name\": \"normalized_mean_absolute_error\", \"stepped\": false, \"type\": \"scatter\", \"data\": [0.011152391052254334, 0.010927160226486873, 0.011049528579169908, 0.011168652716093401, 0.011967624136109354, 0.024089749620667386, 0.011641813466090245, 0.01115815954856035, 0.011098951440277694, 0.011771549095855628, 0.011245806615083467, 0.01104568921031134, 0.016500643379389272, 0.011166357036293014, 0.0111501891854899, 0.011360035793890375, 0.012225930726268194, 0.011280646624636754, 0.011281297362615125, 0.011276210776155624, 0.011076465545276516, 0.011248660884688252, 0.011107814688389967, 0.012040805197305746, 0.016519784371676494, 0.037846667046511004, 0.012641412474084332, 0.012573525561963426, 0.011162885650473447, 0.015381255967687307, 0.03742532373948524, 0.012135260423908195, 0.011376156002605279, 0.011258644177048627, 0.03784300630317135, 0.010981305699740615, 0.01095506322395307, 0.013251535986779518, 0.011580663609070826, 0.010985017953369586]}, {\"categories\": [\"0\", \"1\", \"2\", \"3\", \"4\", \"5\", \"6\", \"7\", \"8\", \"9\", \"10\", \"11\", \"12\", \"13\", \"14\", \"15\", \"16\", \"17\", \"18\", \"19\", \"20\", \"21\", \"22\", \"23\", \"24\", \"25\", \"26\", \"27\", \"28\", \"29\", \"30\", \"31\", \"32\", \"34\", \"35\", \"36\", \"37\", \"38\", \"39\", \"40\"], \"mode\": \"lines\", \"name\": \"normalized_mean_absolute_error_min\", \"stepped\": true, \"type\": \"scatter\", \"data\": [0.011152391052254334, 0.010927160226486873, 0.010927160226486873, 0.010927160226486873, 0.010927160226486873, 0.010927160226486873, 0.010927160226486873, 0.010927160226486873, 0.010927160226486873, 0.010927160226486873, 0.010927160226486873, 0.010927160226486873, 0.010927160226486873, 0.010927160226486873, 0.010927160226486873, 0.010927160226486873, 0.010927160226486873, 0.010927160226486873, 0.010927160226486873, 0.010927160226486873, 0.010927160226486873, 0.010927160226486873, 0.010927160226486873, 0.010927160226486873, 0.010927160226486873, 0.010927160226486873, 0.010927160226486873, 0.010927160226486873, 0.010927160226486873, 0.010927160226486873, 0.010927160226486873, 0.010927160226486873, 0.010927160226486873, 0.010927160226486873, 0.010927160226486873, 0.010927160226486873, 0.010927160226486873, 0.010927160226486873, 0.010927160226486873, 0.010927160226486873]}], \"normalized_root_mean_squared_log_error\": [{\"categories\": [\"0\", \"1\", \"2\", \"3\", \"4\", \"5\", \"6\", \"7\", \"8\", \"9\", \"10\", \"11\", \"12\", \"13\", \"14\", \"15\", \"16\", \"17\", \"18\", \"19\", \"20\", \"21\", \"22\", \"23\", \"24\", \"25\", \"26\", \"27\", \"28\", \"29\", \"30\", \"31\", \"32\", \"34\", \"35\", \"36\", \"37\", \"38\", \"39\", \"40\"], \"mode\": \"markers\", \"name\": \"normalized_root_mean_squared_log_error\", \"stepped\": false, \"type\": \"scatter\", \"data\": [0.033642640864138984, 0.03343246970918766, 0.03402621676767853, 0.03407474346997215, 0.03737889701012578, 0.06990539736174291, 0.034824292495991546, 0.03360064520530825, 0.033426072973016835, 0.034240045889420354, 0.034914912361813016, 0.03400139524518962, 0.046616516374188045, 0.03411749409319052, 0.033595724827292006, 0.035372088178842756, 0.036644898044180335, 0.03419074314448289, 0.03486620697960024, 0.03424193150186422, 0.03350645994994636, 0.034057561806413526, 0.03430552099527991, 0.03650362028720715, 0.045859375897456825, 0.10389767821063871, 0.03600614817810118, 0.035644489262453324, 0.034560919321787016, 0.0412706797335501, 0.10268947850663564, 0.034819565392569966, 0.03492116236233265, 0.03413480868066487, 0.10388708356183404, 0.03350174296746658, 0.03346184774486734, 0.04071311845955211, 0.03602471280266327, 0.03379485982706838]}, {\"categories\": [\"0\", \"1\", \"2\", \"3\", \"4\", \"5\", \"6\", \"7\", \"8\", \"9\", \"10\", \"11\", \"12\", \"13\", \"14\", \"15\", \"16\", \"17\", \"18\", \"19\", \"20\", \"21\", \"22\", \"23\", \"24\", \"25\", \"26\", \"27\", \"28\", \"29\", \"30\", \"31\", \"32\", \"34\", \"35\", \"36\", \"37\", \"38\", \"39\", \"40\"], \"mode\": \"lines\", \"name\": \"normalized_root_mean_squared_log_error_min\", \"stepped\": true, \"type\": \"scatter\", \"data\": [0.033642640864138984, 0.03343246970918766, 0.03343246970918766, 0.03343246970918766, 0.03343246970918766, 0.03343246970918766, 0.03343246970918766, 0.03343246970918766, 0.033426072973016835, 0.033426072973016835, 0.033426072973016835, 0.033426072973016835, 0.033426072973016835, 0.033426072973016835, 0.033426072973016835, 0.033426072973016835, 0.033426072973016835, 0.033426072973016835, 0.033426072973016835, 0.033426072973016835, 0.033426072973016835, 0.033426072973016835, 0.033426072973016835, 0.033426072973016835, 0.033426072973016835, 0.033426072973016835, 0.033426072973016835, 0.033426072973016835, 0.033426072973016835, 0.033426072973016835, 0.033426072973016835, 0.033426072973016835, 0.033426072973016835, 0.033426072973016835, 0.033426072973016835, 0.033426072973016835, 0.033426072973016835, 0.033426072973016835, 0.033426072973016835, 0.033426072973016835]}], \"normalized_median_absolute_error\": [{\"categories\": [\"0\", \"1\", \"2\", \"3\", \"4\", \"5\", \"6\", \"7\", \"8\", \"9\", \"10\", \"11\", \"12\", \"13\", \"14\", \"15\", \"16\", \"17\", \"18\", \"19\", \"20\", \"21\", \"22\", \"23\", \"24\", \"25\", \"26\", \"27\", \"28\", \"29\", \"30\", \"31\", \"32\", \"34\", \"35\", \"36\", \"37\", \"38\", \"39\", \"40\"], \"mode\": \"markers\", \"name\": \"normalized_median_absolute_error\", \"stepped\": false, \"type\": \"scatter\", \"data\": [0.006801865160093361, 0.006772345029926553, 0.007246104632423122, 0.0067919374376689354, 0.007119927393127054, 0.01854235999190084, 0.00721164093454692, 0.00676546785444051, 0.006753360784830599, 0.006854053947206194, 0.007754739909852505, 0.00724632999296512, 0.009140800250404296, 0.006740683788884827, 0.0067404166235717254, 0.007978389614776182, 0.007901512544045117, 0.006899176817304434, 0.007725462765531749, 0.0067776814767766995, 0.006767369150537318, 0.00696931910797703, 0.007409799843924733, 0.007993301112108664, 0.009814622004106247, 0.031687783019746826, 0.006577503336575763, 0.006901833044860746, 0.0075486812781149475, 0.007868737080904206, 0.0313580373504219, 0.006896122728539363, 0.006910994977133644, 0.006738901722878318, 0.03168491530651525, 0.006880363594185845, 0.006778787508139719, 0.010030931903767677, 0.00830168128009973, 0.007194381288413344]}, {\"categories\": [\"0\", \"1\", \"2\", \"3\", \"4\", \"5\", \"6\", \"7\", \"8\", \"9\", \"10\", \"11\", \"12\", \"13\", \"14\", \"15\", \"16\", \"17\", \"18\", \"19\", \"20\", \"21\", \"22\", \"23\", \"24\", \"25\", \"26\", \"27\", \"28\", \"29\", \"30\", \"31\", \"32\", \"34\", \"35\", \"36\", \"37\", \"38\", \"39\", \"40\"], \"mode\": \"lines\", \"name\": \"normalized_median_absolute_error_min\", \"stepped\": true, \"type\": \"scatter\", \"data\": [0.006801865160093361, 0.006772345029926553, 0.006772345029926553, 0.006772345029926553, 0.006772345029926553, 0.006772345029926553, 0.006772345029926553, 0.00676546785444051, 0.006753360784830599, 0.006753360784830599, 0.006753360784830599, 0.006753360784830599, 0.006753360784830599, 0.006740683788884827, 0.0067404166235717254, 0.0067404166235717254, 0.0067404166235717254, 0.0067404166235717254, 0.0067404166235717254, 0.0067404166235717254, 0.0067404166235717254, 0.0067404166235717254, 0.0067404166235717254, 0.0067404166235717254, 0.0067404166235717254, 0.0067404166235717254, 0.006577503336575763, 0.006577503336575763, 0.006577503336575763, 0.006577503336575763, 0.006577503336575763, 0.006577503336575763, 0.006577503336575763, 0.006577503336575763, 0.006577503336575763, 0.006577503336575763, 0.006577503336575763, 0.006577503336575763, 0.006577503336575763, 0.006577503336575763]}], \"root_mean_squared_error\": [{\"categories\": [\"0\", \"1\", \"2\", \"3\", \"4\", \"5\", \"6\", \"7\", \"8\", \"9\", \"10\", \"11\", \"12\", \"13\", \"14\", \"15\", \"16\", \"17\", \"18\", \"19\", \"20\", \"21\", \"22\", \"23\", \"24\", \"25\", \"26\", \"27\", \"28\", \"29\", \"30\", \"31\", \"32\", \"34\", \"35\", \"36\", \"37\", \"38\", \"39\", \"40\"], \"mode\": \"markers\", \"name\": \"root_mean_squared_error\", \"stepped\": false, \"type\": \"scatter\", \"data\": [4.00790390424653, 3.94946912640455, 3.857310339490391, 4.099450025531395, 4.320143013708838, 7.271180861369652, 4.270594901805476, 4.056497349552339, 4.0409165192461955, 4.410057926996009, 3.874344311553469, 3.85700330816492, 6.227281520960853, 4.106318280796451, 4.047760712895153, 3.88899327343137, 4.451138236770719, 3.9692405938946345, 3.8690416357517337, 4.125427731206029, 4.015521441656997, 4.070387810802094, 3.860523639987522, 4.233154885246185, 6.024345779005441, 10.406665155523601, 5.191538811438466, 5.105752615284258, 3.8636515092671404, 5.897182807794704, 10.294196059013345, 4.562035499629873, 4.143667532239543, 4.085911503608638, 10.405687784478086, 3.9185864548636813, 3.9196251023674917, 4.474159808162104, 3.951193522796328, 3.864583939740723]}, {\"categories\": [\"0\", \"1\", \"2\", \"3\", \"4\", \"5\", \"6\", \"7\", \"8\", \"9\", \"10\", \"11\", \"12\", \"13\", \"14\", \"15\", \"16\", \"17\", \"18\", \"19\", \"20\", \"21\", \"22\", \"23\", \"24\", \"25\", \"26\", \"27\", \"28\", \"29\", \"30\", \"31\", \"32\", \"34\", \"35\", \"36\", \"37\", \"38\", \"39\", \"40\"], \"mode\": \"lines\", \"name\": \"root_mean_squared_error_min\", \"stepped\": true, \"type\": \"scatter\", \"data\": [4.00790390424653, 3.94946912640455, 3.857310339490391, 3.857310339490391, 3.857310339490391, 3.857310339490391, 3.857310339490391, 3.857310339490391, 3.857310339490391, 3.857310339490391, 3.857310339490391, 3.85700330816492, 3.85700330816492, 3.85700330816492, 3.85700330816492, 3.85700330816492, 3.85700330816492, 3.85700330816492, 3.85700330816492, 3.85700330816492, 3.85700330816492, 3.85700330816492, 3.85700330816492, 3.85700330816492, 3.85700330816492, 3.85700330816492, 3.85700330816492, 3.85700330816492, 3.85700330816492, 3.85700330816492, 3.85700330816492, 3.85700330816492, 3.85700330816492, 3.85700330816492, 3.85700330816492, 3.85700330816492, 3.85700330816492, 3.85700330816492, 3.85700330816492, 3.85700330816492]}], \"normalized_root_mean_squared_error\": [{\"categories\": [\"0\", \"1\", \"2\", \"3\", \"4\", \"5\", \"6\", \"7\", \"8\", \"9\", \"10\", \"11\", \"12\", \"13\", \"14\", \"15\", \"16\", \"17\", \"18\", \"19\", \"20\", \"21\", \"22\", \"23\", \"24\", \"25\", \"26\", \"27\", \"28\", \"29\", \"30\", \"31\", \"32\", \"34\", \"35\", \"36\", \"37\", \"38\", \"39\", \"40\"], \"mode\": \"markers\", \"name\": \"normalized_root_mean_squared_error\", \"stepped\": false, \"type\": \"scatter\", \"data\": [0.020908257625575306, 0.020603417634746466, 0.02012264770979389, 0.021385831423294883, 0.022537132942296617, 0.037931977992433884, 0.02227865252128685, 0.021161757783673324, 0.021080476390245687, 0.023006197125546503, 0.020211509789521985, 0.020121046002216703, 0.03248620961427749, 0.021421661436676148, 0.021116180880041493, 0.020287929852529453, 0.023220503087123583, 0.020706560560773305, 0.020183847022545432, 0.02152135078097986, 0.020947996461249917, 0.02123422093381029, 0.02013941071515218, 0.022083337081987498, 0.03142754331997204, 0.0542890351897522, 0.02708299239104005, 0.02663546671857821, 0.020155728046675047, 0.0307641650988299, 0.05370231133086414, 0.02379902707303393, 0.02161650337649091, 0.021315204254831438, 0.05428393648327031, 0.020442310265865106, 0.02044772863669201, 0.02334060101289636, 0.020612413390350713, 0.020160592309148743]}, {\"categories\": [\"0\", \"1\", \"2\", \"3\", \"4\", \"5\", \"6\", \"7\", \"8\", \"9\", \"10\", \"11\", \"12\", \"13\", \"14\", \"15\", \"16\", \"17\", \"18\", \"19\", \"20\", \"21\", \"22\", \"23\", \"24\", \"25\", \"26\", \"27\", \"28\", \"29\", \"30\", \"31\", \"32\", \"34\", \"35\", \"36\", \"37\", \"38\", \"39\", \"40\"], \"mode\": \"lines\", \"name\": \"normalized_root_mean_squared_error_min\", \"stepped\": true, \"type\": \"scatter\", \"data\": [0.020908257625575306, 0.020603417634746466, 0.02012264770979389, 0.02012264770979389, 0.02012264770979389, 0.02012264770979389, 0.02012264770979389, 0.02012264770979389, 0.02012264770979389, 0.02012264770979389, 0.02012264770979389, 0.020121046002216703, 0.020121046002216703, 0.020121046002216703, 0.020121046002216703, 0.020121046002216703, 0.020121046002216703, 0.020121046002216703, 0.020121046002216703, 0.020121046002216703, 0.020121046002216703, 0.020121046002216703, 0.020121046002216703, 0.020121046002216703, 0.020121046002216703, 0.020121046002216703, 0.020121046002216703, 0.020121046002216703, 0.020121046002216703, 0.020121046002216703, 0.020121046002216703, 0.020121046002216703, 0.020121046002216703, 0.020121046002216703, 0.020121046002216703, 0.020121046002216703, 0.020121046002216703, 0.020121046002216703, 0.020121046002216703, 0.020121046002216703]}], \"spearman_correlation\": [{\"categories\": [\"0\", \"1\", \"2\", \"3\", \"4\", \"5\", \"6\", \"7\", \"8\", \"9\", \"10\", \"11\", \"12\", \"13\", \"14\", \"15\", \"16\", \"17\", \"18\", \"19\", \"20\", \"21\", \"22\", \"23\", \"24\", \"25\", \"26\", \"27\", \"28\", \"29\", \"30\", \"31\", \"32\", \"34\", \"35\", \"36\", \"37\", \"38\", \"39\", \"40\"], \"mode\": \"markers\", \"name\": \"spearman_correlation\", \"stepped\": false, \"type\": \"scatter\", \"data\": [0.9440207948019322, 0.9443784992453577, 0.9447233061675396, 0.9420791074538142, 0.9396783636405871, 0.8733253801852345, 0.9415426581884594, 0.9437002287926998, 0.9439917997839549, 0.9429504456042579, 0.9447426984379707, 0.9446882090422581, 0.923557906896554, 0.9421943844517525, 0.9437647781030638, 0.9446683949809375, 0.9366249065609449, 0.9408699674069337, 0.9446482503590173, 0.9420540632942942, 0.9438186243441441, 0.9414909143219481, 0.9447816021744468, 0.9408779409259642, 0.9166380105139016, -1.0, 0.9427987398500377, 0.943950424111837, 0.9448026559998797, 0.9365265411285553, 0.8525049485850061, 0.9426179441960558, 0.9388953581595876, 0.9422783197752725, 0.8532296089188558, 0.9439184538973615, 0.9441953475234941, 0.9442001417014823, 0.9449054969556284, 0.9448851818489123]}, {\"categories\": [\"0\", \"1\", \"2\", \"3\", \"4\", \"5\", \"6\", \"7\", \"8\", \"9\", \"10\", \"11\", \"12\", \"13\", \"14\", \"15\", \"16\", \"17\", \"18\", \"19\", \"20\", \"21\", \"22\", \"23\", \"24\", \"25\", \"26\", \"27\", \"28\", \"29\", \"30\", \"31\", \"32\", \"34\", \"35\", \"36\", \"37\", \"38\", \"39\", \"40\"], \"mode\": \"lines\", \"name\": \"spearman_correlation_max\", \"stepped\": true, \"type\": \"scatter\", \"data\": [0.9440207948019322, 0.9443784992453577, 0.9447233061675396, 0.9447233061675396, 0.9447233061675396, 0.9447233061675396, 0.9447233061675396, 0.9447233061675396, 0.9447233061675396, 0.9447233061675396, 0.9447426984379707, 0.9447426984379707, 0.9447426984379707, 0.9447426984379707, 0.9447426984379707, 0.9447426984379707, 0.9447426984379707, 0.9447426984379707, 0.9447426984379707, 0.9447426984379707, 0.9447426984379707, 0.9447426984379707, 0.9447816021744468, 0.9447816021744468, 0.9447816021744468, 0.9447816021744468, 0.9447816021744468, 0.9447816021744468, 0.9448026559998797, 0.9448026559998797, 0.9448026559998797, 0.9448026559998797, 0.9448026559998797, 0.9448026559998797, 0.9448026559998797, 0.9448026559998797, 0.9448026559998797, 0.9448026559998797, 0.9449054969556284, 0.9449054969556284]}], \"mean_absolute_percentage_error\": [{\"categories\": [\"0\", \"1\", \"2\", \"3\", \"4\", \"5\", \"6\", \"7\", \"8\", \"9\", \"10\", \"11\", \"12\", \"13\", \"14\", \"15\", \"16\", \"17\", \"18\", \"19\", \"20\", \"21\", \"22\", \"23\", \"24\", \"25\", \"26\", \"27\", \"28\", \"29\", \"30\", \"31\", \"32\", \"34\", \"35\", \"36\", \"37\", \"38\", \"39\", \"40\"], \"mode\": \"markers\", \"name\": \"mean_absolute_percentage_error\", \"stepped\": false, \"type\": \"scatter\", \"data\": [73.37253665754619, 77.33369176453748, 74.63942501380677, 80.73635234663718, 62.14034655645311, 59.585312487628755, 56.94057273590123, 61.08806936374499, 59.6727120764386, 53.948657535018334, 73.91836026093375, 74.58117289823839, 51.76547331699485, 77.70768800433726, 60.919029094087094, 73.66632971221209, 54.325993148964905, 70.43914521129774, 75.22175138910151, 81.49229966231123, 61.9132468687726, 59.44527610839448, 74.38919954170076, 59.6447361955464, 52.79517898049234, 76.96193898508274, 46.72254728920889, 46.62896653465583, 74.16409302123274, 51.35146471006772, 76.8473716790376, 52.665300022465374, 81.01111640227242, 76.003729038362, 76.95975853202576, 65.45908346706514, 80.25422909629444, 61.122159779355385, 71.81399451705816, 74.91513782872963]}, {\"categories\": [\"0\", \"1\", \"2\", \"3\", \"4\", \"5\", \"6\", \"7\", \"8\", \"9\", \"10\", \"11\", \"12\", \"13\", \"14\", \"15\", \"16\", \"17\", \"18\", \"19\", \"20\", \"21\", \"22\", \"23\", \"24\", \"25\", \"26\", \"27\", \"28\", \"29\", \"30\", \"31\", \"32\", \"34\", \"35\", \"36\", \"37\", \"38\", \"39\", \"40\"], \"mode\": \"lines\", \"name\": \"mean_absolute_percentage_error_min\", \"stepped\": true, \"type\": \"scatter\", \"data\": [73.37253665754619, 73.37253665754619, 73.37253665754619, 73.37253665754619, 62.14034655645311, 59.585312487628755, 56.94057273590123, 56.94057273590123, 56.94057273590123, 53.948657535018334, 53.948657535018334, 53.948657535018334, 51.76547331699485, 51.76547331699485, 51.76547331699485, 51.76547331699485, 51.76547331699485, 51.76547331699485, 51.76547331699485, 51.76547331699485, 51.76547331699485, 51.76547331699485, 51.76547331699485, 51.76547331699485, 51.76547331699485, 51.76547331699485, 46.72254728920889, 46.62896653465583, 46.62896653465583, 46.62896653465583, 46.62896653465583, 46.62896653465583, 46.62896653465583, 46.62896653465583, 46.62896653465583, 46.62896653465583, 46.62896653465583, 46.62896653465583, 46.62896653465583, 46.62896653465583]}], \"explained_variance\": [{\"categories\": [\"0\", \"1\", \"2\", \"3\", \"4\", \"5\", \"6\", \"7\", \"8\", \"9\", \"10\", \"11\", \"12\", \"13\", \"14\", \"15\", \"16\", \"17\", \"18\", \"19\", \"20\", \"21\", \"22\", \"23\", \"24\", \"25\", \"26\", \"27\", \"28\", \"29\", \"30\", \"31\", \"32\", \"34\", \"35\", \"36\", \"37\", \"38\", \"39\", \"40\"], \"mode\": \"markers\", \"name\": \"explained_variance\", \"stepped\": false, \"type\": \"scatter\", \"data\": [0.8513584153351401, 0.8553113733886519, 0.8620190800343593, 0.8442720039161026, 0.8372870221058492, 0.5086951151538319, 0.8314787331664235, 0.8477777434377434, 0.8490142936559991, 0.820298979491535, 0.860874667789471, 0.8620378648399699, 0.6599561752472447, 0.8438899578335148, 0.8484657720104675, 0.8598593944910359, 0.8166404690854749, 0.854247967053799, 0.8619042783622044, 0.8425078120750067, 0.8509066657776039, 0.8468531970597072, 0.861815845192497, 0.83441076052785, 0.6647022263365356, -4.4408920985006264e-17, 0.7561548714373061, 0.7613208175024874, 0.8616045503903653, 0.6789055857637443, 0.02150894836546169, 0.8076784996430388, 0.8410142801689208, 0.845224891265481, 0.00018657884503250343, 0.8578957572003691, 0.8574668066634725, 0.8151098878500201, 0.8554728400305274, 0.8615796927161353]}, {\"categories\": [\"0\", \"1\", \"2\", \"3\", \"4\", \"5\", \"6\", \"7\", \"8\", \"9\", \"10\", \"11\", \"12\", \"13\", \"14\", \"15\", \"16\", \"17\", \"18\", \"19\", \"20\", \"21\", \"22\", \"23\", \"24\", \"25\", \"26\", \"27\", \"28\", \"29\", \"30\", \"31\", \"32\", \"34\", \"35\", \"36\", \"37\", \"38\", \"39\", \"40\"], \"mode\": \"lines\", \"name\": \"explained_variance_max\", \"stepped\": true, \"type\": \"scatter\", \"data\": [0.8513584153351401, 0.8553113733886519, 0.8620190800343593, 0.8620190800343593, 0.8620190800343593, 0.8620190800343593, 0.8620190800343593, 0.8620190800343593, 0.8620190800343593, 0.8620190800343593, 0.8620190800343593, 0.8620378648399699, 0.8620378648399699, 0.8620378648399699, 0.8620378648399699, 0.8620378648399699, 0.8620378648399699, 0.8620378648399699, 0.8620378648399699, 0.8620378648399699, 0.8620378648399699, 0.8620378648399699, 0.8620378648399699, 0.8620378648399699, 0.8620378648399699, 0.8620378648399699, 0.8620378648399699, 0.8620378648399699, 0.8620378648399699, 0.8620378648399699, 0.8620378648399699, 0.8620378648399699, 0.8620378648399699, 0.8620378648399699, 0.8620378648399699, 0.8620378648399699, 0.8620378648399699, 0.8620378648399699, 0.8620378648399699, 0.8620378648399699]}], \"root_mean_squared_log_error\": [{\"categories\": [\"0\", \"1\", \"2\", \"3\", \"4\", \"5\", \"6\", \"7\", \"8\", \"9\", \"10\", \"11\", \"12\", \"13\", \"14\", \"15\", \"16\", \"17\", \"18\", \"19\", \"20\", \"21\", \"22\", \"23\", \"24\", \"25\", \"26\", \"27\", \"28\", \"29\", \"30\", \"31\", \"32\", \"34\", \"35\", \"36\", \"37\", \"38\", \"39\", \"40\"], \"mode\": \"markers\", \"name\": \"root_mean_squared_log_error\", \"stepped\": false, \"type\": \"scatter\", \"data\": [0.17666370565139772, 0.17556005819385484, 0.17867793339266014, 0.1789327560471852, 0.19628347505887075, 0.36708612123619055, 0.1828687760831489, 0.1764431787094055, 0.17552646775365793, 0.17980078950778045, 0.18334463769479542, 0.17854759100484024, 0.24479191632074296, 0.17915724744627498, 0.1764173408978893, 0.1857453521421791, 0.19242911125336948, 0.17954189171035093, 0.18308887675909405, 0.17981069120613707, 0.17594859458037865, 0.17884253196621075, 0.18014461135208157, 0.19168723572184407, 0.24081603217840794, 0.5455858508668139, 0.18907491802039522, 0.18717578042063793, 0.1814857550203245, 0.21671994317939514, 0.5392413716168624, 0.1828439531921391, 0.18337745759905263, 0.1792481695352214, 0.5455302164139343, 0.17592382483629895, 0.17571432767195228, 0.21379208620199613, 0.1891724042844019, 0.17746303547125686]}, {\"categories\": [\"0\", \"1\", \"2\", \"3\", \"4\", \"5\", \"6\", \"7\", \"8\", \"9\", \"10\", \"11\", \"12\", \"13\", \"14\", \"15\", \"16\", \"17\", \"18\", \"19\", \"20\", \"21\", \"22\", \"23\", \"24\", \"25\", \"26\", \"27\", \"28\", \"29\", \"30\", \"31\", \"32\", \"34\", \"35\", \"36\", \"37\", \"38\", \"39\", \"40\"], \"mode\": \"lines\", \"name\": \"root_mean_squared_log_error_min\", \"stepped\": true, \"type\": \"scatter\", \"data\": [0.17666370565139772, 0.17556005819385484, 0.17556005819385484, 0.17556005819385484, 0.17556005819385484, 0.17556005819385484, 0.17556005819385484, 0.17556005819385484, 0.17552646775365793, 0.17552646775365793, 0.17552646775365793, 0.17552646775365793, 0.17552646775365793, 0.17552646775365793, 0.17552646775365793, 0.17552646775365793, 0.17552646775365793, 0.17552646775365793, 0.17552646775365793, 0.17552646775365793, 0.17552646775365793, 0.17552646775365793, 0.17552646775365793, 0.17552646775365793, 0.17552646775365793, 0.17552646775365793, 0.17552646775365793, 0.17552646775365793, 0.17552646775365793, 0.17552646775365793, 0.17552646775365793, 0.17552646775365793, 0.17552646775365793, 0.17552646775365793, 0.17552646775365793, 0.17552646775365793, 0.17552646775365793, 0.17552646775365793, 0.17552646775365793, 0.17552646775365793]}], \"median_absolute_error\": [{\"categories\": [\"0\", \"1\", \"2\", \"3\", \"4\", \"5\", \"6\", \"7\", \"8\", \"9\", \"10\", \"11\", \"12\", \"13\", \"14\", \"15\", \"16\", \"17\", \"18\", \"19\", \"20\", \"21\", \"22\", \"23\", \"24\", \"25\", \"26\", \"27\", \"28\", \"29\", \"30\", \"31\", \"32\", \"34\", \"35\", \"36\", \"37\", \"38\", \"39\", \"40\"], \"mode\": \"markers\", \"name\": \"median_absolute_error\", \"stepped\": false, \"type\": \"scatter\", \"data\": [1.3038495325382962, 1.298190818786621, 1.3890057969891885, 1.3019464874267581, 1.364818881988525, 3.5543849868474724, 1.382399450743299, 1.2968725330177013, 1.2945517288441775, 1.3138536011399553, 1.4865060933196268, 1.3890489963514836, 1.752199999999999, 1.2921216754913327, 1.2920704625724642, 1.5293775052564462, 1.5146409395680085, 1.322503204109087, 1.480893957524781, 1.2992137622833255, 1.2972369924664986, 1.3359487798081169, 1.4203845320819322, 1.5322358901801096, 1.8813648919671262, 6.0742311270552705, 1.260841614588208, 1.3230123763693564, 1.4470067142018546, 1.5083582110385272, 6.011022179702373, 1.3219177658337105, 1.324768627166748, 1.2917800712585445, 6.073681415105909, 1.3188968973694846, 1.2994257774353029, 1.9228293366332259, 1.5913492845823174, 1.379090949175954]}, {\"categories\": [\"0\", \"1\", \"2\", \"3\", \"4\", \"5\", \"6\", \"7\", \"8\", \"9\", \"10\", \"11\", \"12\", \"13\", \"14\", \"15\", \"16\", \"17\", \"18\", \"19\", \"20\", \"21\", \"22\", \"23\", \"24\", \"25\", \"26\", \"27\", \"28\", \"29\", \"30\", \"31\", \"32\", \"34\", \"35\", \"36\", \"37\", \"38\", \"39\", \"40\"], \"mode\": \"lines\", \"name\": \"median_absolute_error_min\", \"stepped\": true, \"type\": \"scatter\", \"data\": [1.3038495325382962, 1.298190818786621, 1.298190818786621, 1.298190818786621, 1.298190818786621, 1.298190818786621, 1.298190818786621, 1.2968725330177013, 1.2945517288441775, 1.2945517288441775, 1.2945517288441775, 1.2945517288441775, 1.2945517288441775, 1.2921216754913327, 1.2920704625724642, 1.2920704625724642, 1.2920704625724642, 1.2920704625724642, 1.2920704625724642, 1.2920704625724642, 1.2920704625724642, 1.2920704625724642, 1.2920704625724642, 1.2920704625724642, 1.2920704625724642, 1.2920704625724642, 1.260841614588208, 1.260841614588208, 1.260841614588208, 1.260841614588208, 1.260841614588208, 1.260841614588208, 1.260841614588208, 1.260841614588208, 1.260841614588208, 1.260841614588208, 1.260841614588208, 1.260841614588208, 1.260841614588208, 1.260841614588208]}], \"r2_score\": [{\"categories\": [\"0\", \"1\", \"2\", \"3\", \"4\", \"5\", \"6\", \"7\", \"8\", \"9\", \"10\", \"11\", \"12\", \"13\", \"14\", \"15\", \"16\", \"17\", \"18\", \"19\", \"20\", \"21\", \"22\", \"23\", \"24\", \"25\", \"26\", \"27\", \"28\", \"29\", \"30\", \"31\", \"32\", \"34\", \"35\", \"36\", \"37\", \"38\", \"39\", \"40\"], \"mode\": \"markers\", \"name\": \"r2_score\", \"stepped\": false, \"type\": \"scatter\", \"data\": [0.851324352340163, 0.8552814625962922, 0.8619911604229096, 0.8442387297048581, 0.8274558074714371, 0.5085078364201291, 0.831449043165674, 0.8477582179890935, 0.8489733293780029, 0.8202745204916659, 0.8608448619268907, 0.8620093857409554, 0.6405595157937289, 0.8438570554198744, 0.8484473512397791, 0.8598279425020339, 0.8165965851522818, 0.8542212539088186, 0.8611729594856034, 0.8424628721889826, 0.850873146227212, 0.8468222314799293, 0.8617883393596337, 0.8343799849080294, 0.6646676501742836, -0.00042385222001897207, 0.751102374879253, 0.7592389909773016, 0.8615748321063427, 0.6788677875664553, 0.021093818472688607, 0.8076519914919631, 0.840880165595124, 0.8451757501118891, -0.00023721882414735608, 0.8578719776224977, 0.8574385716794557, 0.8150425681419637, 0.8554363961167791, 0.8615341274704758]}, {\"categories\": [\"0\", \"1\", \"2\", \"3\", \"4\", \"5\", \"6\", \"7\", \"8\", \"9\", \"10\", \"11\", \"12\", \"13\", \"14\", \"15\", \"16\", \"17\", \"18\", \"19\", \"20\", \"21\", \"22\", \"23\", \"24\", \"25\", \"26\", \"27\", \"28\", \"29\", \"30\", \"31\", \"32\", \"34\", \"35\", \"36\", \"37\", \"38\", \"39\", \"40\"], \"mode\": \"lines\", \"name\": \"r2_score_max\", \"stepped\": true, \"type\": \"scatter\", \"data\": [0.851324352340163, 0.8552814625962922, 0.8619911604229096, 0.8619911604229096, 0.8619911604229096, 0.8619911604229096, 0.8619911604229096, 0.8619911604229096, 0.8619911604229096, 0.8619911604229096, 0.8619911604229096, 0.8620093857409554, 0.8620093857409554, 0.8620093857409554, 0.8620093857409554, 0.8620093857409554, 0.8620093857409554, 0.8620093857409554, 0.8620093857409554, 0.8620093857409554, 0.8620093857409554, 0.8620093857409554, 0.8620093857409554, 0.8620093857409554, 0.8620093857409554, 0.8620093857409554, 0.8620093857409554, 0.8620093857409554, 0.8620093857409554, 0.8620093857409554, 0.8620093857409554, 0.8620093857409554, 0.8620093857409554, 0.8620093857409554, 0.8620093857409554, 0.8620093857409554, 0.8620093857409554, 0.8620093857409554, 0.8620093857409554, 0.8620093857409554]}], \"mean_absolute_error\": [{\"categories\": [\"0\", \"1\", \"2\", \"3\", \"4\", \"5\", \"6\", \"7\", \"8\", \"9\", \"10\", \"11\", \"12\", \"13\", \"14\", \"15\", \"16\", \"17\", \"18\", \"19\", \"20\", \"21\", \"22\", \"23\", \"24\", \"25\", \"26\", \"27\", \"28\", \"29\", \"30\", \"31\", \"32\", \"34\", \"35\", \"36\", \"37\", \"38\", \"39\", \"40\"], \"mode\": \"markers\", \"name\": \"mean_absolute_error\", \"stepped\": false, \"type\": \"scatter\", \"data\": [2.1378018408066333, 2.0946273438152687, 2.1180841333410796, 2.1409190391479442, 2.294073870650802, 4.617764104785731, 2.2316192233148393, 2.138907603863534, 2.1275580015868307, 2.2564882461845652, 2.15570867004535, 2.117348164724581, 3.1630083293951294, 2.140478980287008, 2.1373797649665587, 2.1776052613308456, 2.3435886609183507, 2.1623871514766195, 2.162511891439693, 2.161536843681272, 2.123247680374056, 2.156255804985891, 2.129256997617473, 2.308101948271539, 3.1666774662066666, 7.254827606145696, 2.423232357157225, 2.410219114972769, 2.139813550339255, 2.9484329564459797, 7.174060307621924, 2.326208070658962, 2.180695344139406, 2.1581695022984517, 7.254125878254916, 2.1050064895832783, 2.0999760693995646, 2.5401869333057654, 2.219897407222787, 2.105718091481416]}, {\"categories\": [\"0\", \"1\", \"2\", \"3\", \"4\", \"5\", \"6\", \"7\", \"8\", \"9\", \"10\", \"11\", \"12\", \"13\", \"14\", \"15\", \"16\", \"17\", \"18\", \"19\", \"20\", \"21\", \"22\", \"23\", \"24\", \"25\", \"26\", \"27\", \"28\", \"29\", \"30\", \"31\", \"32\", \"34\", \"35\", \"36\", \"37\", \"38\", \"39\", \"40\"], \"mode\": \"lines\", \"name\": \"mean_absolute_error_min\", \"stepped\": true, \"type\": \"scatter\", \"data\": [2.1378018408066333, 2.0946273438152687, 2.0946273438152687, 2.0946273438152687, 2.0946273438152687, 2.0946273438152687, 2.0946273438152687, 2.0946273438152687, 2.0946273438152687, 2.0946273438152687, 2.0946273438152687, 2.0946273438152687, 2.0946273438152687, 2.0946273438152687, 2.0946273438152687, 2.0946273438152687, 2.0946273438152687, 2.0946273438152687, 2.0946273438152687, 2.0946273438152687, 2.0946273438152687, 2.0946273438152687, 2.0946273438152687, 2.0946273438152687, 2.0946273438152687, 2.0946273438152687, 2.0946273438152687, 2.0946273438152687, 2.0946273438152687, 2.0946273438152687, 2.0946273438152687, 2.0946273438152687, 2.0946273438152687, 2.0946273438152687, 2.0946273438152687, 2.0946273438152687, 2.0946273438152687, 2.0946273438152687, 2.0946273438152687, 2.0946273438152687]}]}, \"metricName\": null, \"primaryMetricName\": \"spearman_correlation\", \"showLegend\": false}, \"run_metrics\": [{\"name\": \"explained_variance\", \"run_id\": \"AutoML_d0a9605f-d325-4f72-8af4-b13d162dcca4\", \"categories\": [0], \"series\": [{\"data\": [0.8554728400305274]}]}, {\"name\": \"median_absolute_error\", \"run_id\": \"AutoML_d0a9605f-d325-4f72-8af4-b13d162dcca4\", \"categories\": [0], \"series\": [{\"data\": [1.5913492845823174]}]}, {\"name\": \"normalized_root_mean_squared_error\", \"run_id\": \"AutoML_d0a9605f-d325-4f72-8af4-b13d162dcca4\", \"categories\": [0], \"series\": [{\"data\": [0.020612413390350713]}]}, {\"name\": \"normalized_mean_absolute_error\", \"run_id\": \"AutoML_d0a9605f-d325-4f72-8af4-b13d162dcca4\", \"categories\": [0], \"series\": [{\"data\": [0.011580663609070826]}]}, {\"name\": \"normalized_median_absolute_error\", \"run_id\": \"AutoML_d0a9605f-d325-4f72-8af4-b13d162dcca4\", \"categories\": [0], \"series\": [{\"data\": [0.00830168128009973]}]}, {\"name\": \"root_mean_squared_error\", \"run_id\": \"AutoML_d0a9605f-d325-4f72-8af4-b13d162dcca4\", \"categories\": [0], \"series\": [{\"data\": [3.951193522796328]}]}, {\"name\": \"r2_score\", \"run_id\": \"AutoML_d0a9605f-d325-4f72-8af4-b13d162dcca4\", \"categories\": [0], \"series\": [{\"data\": [0.8554363961167791]}]}, {\"name\": \"root_mean_squared_log_error\", \"run_id\": \"AutoML_d0a9605f-d325-4f72-8af4-b13d162dcca4\", \"categories\": [0], \"series\": [{\"data\": [0.1891724042844019]}]}, {\"name\": \"mean_absolute_error\", \"run_id\": \"AutoML_d0a9605f-d325-4f72-8af4-b13d162dcca4\", \"categories\": [0], \"series\": [{\"data\": [2.219897407222787]}]}, {\"name\": \"normalized_root_mean_squared_log_error\", \"run_id\": \"AutoML_d0a9605f-d325-4f72-8af4-b13d162dcca4\", \"categories\": [0], \"series\": [{\"data\": [0.03602471280266327]}]}, {\"name\": \"spearman_correlation\", \"run_id\": \"AutoML_d0a9605f-d325-4f72-8af4-b13d162dcca4\", \"categories\": [0], \"series\": [{\"data\": [0.9449054969556284]}]}, {\"name\": \"mean_absolute_percentage_error\", \"run_id\": \"AutoML_d0a9605f-d325-4f72-8af4-b13d162dcca4\", \"categories\": [0], \"series\": [{\"data\": [71.81399451705816]}]}], \"run_logs\": \"\\nRun is completed.\", \"graph\": {}, \"widget_settings\": {\"childWidgetDisplay\": \"popup\", \"send_telemetry\": false, \"log_level\": \"INFO\", \"sdk_version\": \"1.34.0\"}, \"loading\": false}"
          },
          "metadata": {}
        }
      ]
    },
    {
      "cell_type": "markdown",
      "metadata": {
        "id": "sAvkVw3IN_Kb"
      },
      "source": [
        "### Retrieve the best model"
      ]
    },
    {
      "cell_type": "markdown",
      "metadata": {
        "id": "lfnO7arDN_Ke"
      },
      "source": [
        "Select the best model from your iterations. The `get_output` function returns the best run and the fitted model for the last fit invocation. By using the overloads on `get_output`, you can retrieve the best run and fitted model for any logged metric or a particular iteration."
      ]
    },
    {
      "cell_type": "code",
      "metadata": {
        "gather": {
          "logged": 1638290337698
        },
        "id": "P_hwa3iUN_Kf",
        "outputId": "992c133c-d536-4825-c369-14713b2b91e3"
      },
      "source": [
        "best_run, fitted_model = local_run.get_output()\n",
        "print(best_run)\n",
        "print(fitted_model)"
      ],
      "execution_count": null,
      "outputs": [
        {
          "output_type": "stream",
          "name": "stdout",
          "text": "Run(Experiment: Tutorial-NYCTaxi,\nId: AutoML_d0a9605f-d325-4f72-8af4-b13d162dcca4_39,\nType: None,\nStatus: Completed)\nRegressionPipeline(pipeline=Pipeline(memory=None,\n                                     steps=[('datatransformer',\n                                             DataTransformer(enable_dnn=False, enable_feature_sweeping=True, feature_sweeping_config={}, feature_sweeping_timeout=86400, featurization_config=None, force_text_dnn=False, is_cross_validation=True, is_onnx_compatible=False, observer=None, task='regression', working_dir='/mnt/batch/ta...\n), random_state=None, reg_alpha=0.975, reg_lambda=1.2, subsample=0.75, subsample_freq=5))], verbose=False))], weights=[0.23076923076923078, 0.07692307692307693, 0.07692307692307693, 0.07692307692307693, 0.07692307692307693, 0.07692307692307693, 0.15384615384615385, 0.07692307692307693, 0.07692307692307693, 0.07692307692307693]))],\n                                     verbose=False),\n                   stddev=[3.9622770566009966])\n"
        }
      ]
    },
    {
      "cell_type": "markdown",
      "metadata": {
        "id": "9cTeNRw1N_Kg"
      },
      "source": [
        "### Test the best model accuracy"
      ]
    },
    {
      "cell_type": "markdown",
      "metadata": {
        "id": "65iATKfbN_Kg"
      },
      "source": [
        "Use the best model to run predictions on the test data set to predict taxi fares. The function `predict` uses the best model and predicts the values of y, **trip cost**, from the `x_test` data set. Print the first 10 predicted cost values from `y_predict`."
      ]
    },
    {
      "cell_type": "code",
      "metadata": {
        "gather": {
          "logged": 1638287823586
        },
        "id": "6AS_KKqJN_Kg"
      },
      "source": [
        "y_test = x_test.pop(\"totalAmount\")\n",
        "\n",
        "y_predict = fitted_model.predict(x_test)\n",
        "print(y_predict[:10])"
      ],
      "execution_count": null,
      "outputs": []
    },
    {
      "cell_type": "markdown",
      "metadata": {
        "id": "F9Yl-j6bN_Kh"
      },
      "source": [
        "Calculate the `root mean squared error` of the results. Convert the `y_test` dataframe to a list to compare to the predicted values. The function `mean_squared_error` takes two arrays of values and calculates the average squared error between them. Taking the square root of the result gives an error in the same units as the y variable, **cost**. It indicates roughly how far the taxi fare predictions are from the actual fares."
      ]
    },
    {
      "cell_type": "code",
      "metadata": {
        "gather": {
          "logged": 1638290401740
        },
        "id": "VRiuzQW2N_Kj"
      },
      "source": [
        "from sklearn.metrics import mean_squared_error\n",
        "from math import sqrt\n",
        "\n",
        "y_actual = y_test.values.flatten().tolist()\n",
        "rmse = sqrt(mean_squared_error(y_actual, y_predict))\n",
        "rmse"
      ],
      "execution_count": null,
      "outputs": []
    },
    {
      "cell_type": "markdown",
      "metadata": {
        "id": "EzF9CiaYN_Kj"
      },
      "source": [
        "Run the following code to calculate mean absolute percent error (MAPE) by using the full `y_actual` and `y_predict` data sets. This metric calculates an absolute difference between each predicted and actual value and sums all the differences. Then it expresses that sum as a percent of the total of the actual values."
      ]
    },
    {
      "cell_type": "code",
      "metadata": {
        "gather": {
          "logged": 1638290404806
        },
        "id": "bYkTN7vlN_Kj"
      },
      "source": [
        "sum_actuals = sum_errors = 0\n",
        "\n",
        "for actual_val, predict_val in zip(y_actual, y_predict):\n",
        "    abs_error = actual_val - predict_val\n",
        "    if abs_error < 0:\n",
        "        abs_error = abs_error * -1\n",
        "\n",
        "    sum_errors = sum_errors + abs_error\n",
        "    sum_actuals = sum_actuals + actual_val\n",
        "\n",
        "mean_abs_percent_error = sum_errors / sum_actuals\n",
        "print(\"Model MAPE:\")\n",
        "print(mean_abs_percent_error)\n",
        "print()\n",
        "print(\"Model Accuracy:\")\n",
        "print(1 - mean_abs_percent_error)"
      ],
      "execution_count": null,
      "outputs": []
    },
    {
      "cell_type": "markdown",
      "metadata": {
        "id": "CcPeuVULN_Kl"
      },
      "source": [
        "From the two prediction accuracy metrics, you see that the model is fairly good at predicting taxi fares from the data set's features, typically within +- $4.00, and approximately 15% error. \n",
        "\n",
        "The traditional machine learning model development process is highly resource-intensive, and requires significant domain knowledge and time investment to run and compare the results of dozens of models. Using automated machine learning is a great way to rapidly test many different models for your scenario."
      ]
    },
    {
      "cell_type": "markdown",
      "metadata": {
        "id": "F2e-ZsQaN_Kl"
      },
      "source": [
        "## Clean up resources"
      ]
    },
    {
      "cell_type": "markdown",
      "metadata": {
        "id": "OLuCmHn5N_Kl"
      },
      "source": [
        "Do not complete this section if you plan on running other Azure Machine Learning service tutorials."
      ]
    },
    {
      "cell_type": "markdown",
      "metadata": {
        "id": "Fh2MfSYZN_Kl"
      },
      "source": [
        "### Stop the notebook VM"
      ]
    },
    {
      "cell_type": "markdown",
      "metadata": {
        "id": "ncemmuYYN_Km"
      },
      "source": [
        "If you used a cloud notebook server, stop the VM when you are not using it to reduce cost."
      ]
    },
    {
      "cell_type": "markdown",
      "metadata": {
        "id": "iaXSKJa5N_Km"
      },
      "source": [
        "1. In your workspace, select **Compute**.\n",
        "1. Select the **Notebook VMs** tab in the compute page.\n",
        "1. From the list, select the VM.\n",
        "1. Select **Stop**.\n",
        "1. When you're ready to use the server again, select **Start**."
      ]
    },
    {
      "cell_type": "markdown",
      "metadata": {
        "id": "H3USqKPJN_Km"
      },
      "source": [
        "### Delete everything"
      ]
    },
    {
      "cell_type": "markdown",
      "metadata": {
        "id": "BYCNT4AxN_Km"
      },
      "source": [
        "If you don't plan to use the resources you created, delete them, so you don't incur any charges."
      ]
    },
    {
      "cell_type": "markdown",
      "metadata": {
        "id": "GiXzRvAgN_Km"
      },
      "source": [
        "1. In the Azure portal, select **Resource groups** on the far left.\n",
        "1. From the list, select the resource group you created.\n",
        "1. Select **Delete resource group**.\n",
        "1. Enter the resource group name. Then select **Delete**.\n",
        "\n",
        "You can also keep the resource group but delete a single workspace. Display the workspace properties and select **Delete**."
      ]
    },
    {
      "cell_type": "markdown",
      "metadata": {
        "id": "sqAQBVo5N_Km"
      },
      "source": [
        "## Next steps"
      ]
    },
    {
      "cell_type": "markdown",
      "metadata": {
        "id": "EhCJwAnQN_Kn"
      },
      "source": [
        "In this automated machine learning tutorial, you did the following tasks:\n",
        "\n",
        "> * Configured a workspace and prepared data for an experiment.\n",
        "> * Trained by using an automated regression model locally with custom parameters.\n",
        "> * Explored and reviewed training results.\n",
        "\n",
        "[Deploy your model](https://docs.microsoft.com/azure/machine-learning/service/tutorial-deploy-models-with-aml) with Azure Machine Learning service."
      ]
    }
  ]
}